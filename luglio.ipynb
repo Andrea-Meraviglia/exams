{
 "cells": [
  {
   "cell_type": "markdown",
   "id": "18b74828",
   "metadata": {},
   "source": [
    "# Programming in Python\n",
    "## Exam: July 5, 2021\n",
    "\n",
    "\n",
    "You can solve the exercises below by using standard Python 3.9 libraries, NumPy, Matplotlib, Pandas, PyMC3.\n",
    "You can browse the documentation: [Python](https://docs.python.org/3.9/), [NumPy](https://numpy.org/doc/stable/user/index.html), [Matplotlib](https://matplotlib.org/3.3.1/contents.html), [Pandas](https://pandas.pydata.org/pandas-docs/version/1.2.5/), [PyMC3](https://docs.pymc.io/).\n",
    "You can also look at the [slides of the course](https://homes.di.unimi.it/monga/lucidi2021/pyqb00.pdf) or your code on [GitHub](https://github.com).\n",
    "\n",
    "**It is forbidden to communicate with others.** \n"
   ]
  },
  {
   "cell_type": "code",
   "execution_count": 2,
   "id": "67e3f563",
   "metadata": {},
   "outputs": [],
   "source": [
    "%matplotlib inline\n",
    "import numpy as np   # type: ignore\n",
    "import pandas as pd  # type: ignore\n",
    "import matplotlib.pyplot as plt # type: ignore\n",
    "import pymc3 as pm   # type: ignore"
   ]
  },
  {
   "cell_type": "markdown",
   "id": "b69a936e",
   "metadata": {},
   "source": [
    "### Exercise 1 (max 3 points)\n",
    "\n",
    "You have to analyze the genome of *Seicercus examinandus* as collected by the US National Center for Biotechnology Information (NCBI Reference Sequence: NC_051526.1). You have the data in FASTA format: a text file in which the first line (starting with `>`) is a comment, then you get the genome data split over many lines. The name of the file is `nc_051526_1.fasta`.\n",
    "\n",
    "Read the genome in a variable of type `str`.\n"
   ]
  },
  {
   "cell_type": "code",
   "execution_count": 3,
   "id": "78551f75",
   "metadata": {},
   "outputs": [],
   "source": [
    "genome: str"
   ]
  },
  {
   "cell_type": "code",
   "execution_count": 4,
   "id": "017e2497",
   "metadata": {},
   "outputs": [],
   "source": [
    "genome = ''\n",
    "\n",
    "with open('nc_051526_1.fasta') as f_genome:\n",
    "    for line in f_genome:\n",
    "        if not line.startswith('>'):\n",
    "            genome += line.strip()"
   ]
  },
  {
   "cell_type": "code",
   "execution_count": 6,
   "id": "ff953cef",
   "metadata": {},
   "outputs": [
    {
     "name": "stdout",
     "output_type": "stream",
     "text": [
      "{'A', 'C', 'T', 'G'}\n"
     ]
    }
   ],
   "source": [
    "letters=set(genome)\n",
    "print(letters)"
   ]
  },
  {
   "cell_type": "markdown",
   "id": "e77ff974",
   "metadata": {},
   "source": [
    "### Exercise 2 (max 5 points)\n",
    "\n",
    "Consider the set of the letters appearing in the genome string. Compute all the triplets that can be composed by using these letters (for example: `'AAC'`), by considering each and its reverse only once: for example, only one between `'AAC'` and `'CAA'` should appear in the result. Name the result `possible_triplets`."
   ]
  },
  {
   "cell_type": "code",
   "execution_count": 8,
   "id": "103f708f",
   "metadata": {},
   "outputs": [],
   "source": [
    "letters = set(genome)\n",
    "possible_triplets = set()\n",
    "for a in letters:\n",
    "    for b in letters:\n",
    "        for c in letters:\n",
    "            triplet = a+b+c\n",
    "            rev_triplet = c+b+a\n",
    "            if not rev_triplet in possible_triplets: \n",
    "                possible_triplets.add(triplet)"
   ]
  },
  {
   "cell_type": "code",
   "execution_count": 9,
   "id": "8da1bafd",
   "metadata": {},
   "outputs": [
    {
     "data": {
      "text/plain": [
       "({'AAA',\n",
       "  'AAT',\n",
       "  'ACA',\n",
       "  'ACT',\n",
       "  'AGA',\n",
       "  'AGT',\n",
       "  'ATA',\n",
       "  'ATT',\n",
       "  'CAA',\n",
       "  'CAC',\n",
       "  'CAG',\n",
       "  'CAT',\n",
       "  'CCA',\n",
       "  'CCC',\n",
       "  'CCG',\n",
       "  'CCT',\n",
       "  'CGA',\n",
       "  'CGC',\n",
       "  'CGG',\n",
       "  'CGT',\n",
       "  'CTA',\n",
       "  'CTC',\n",
       "  'CTG',\n",
       "  'CTT',\n",
       "  'GAA',\n",
       "  'GAG',\n",
       "  'GAT',\n",
       "  'GCA',\n",
       "  'GCG',\n",
       "  'GCT',\n",
       "  'GGA',\n",
       "  'GGG',\n",
       "  'GGT',\n",
       "  'GTA',\n",
       "  'GTG',\n",
       "  'GTT',\n",
       "  'TAT',\n",
       "  'TCT',\n",
       "  'TGT',\n",
       "  'TTT'},\n",
       " 40)"
      ]
     },
     "execution_count": 9,
     "metadata": {},
     "output_type": "execute_result"
    }
   ],
   "source": [
    "possible_triplets, len(possible_triplets)"
   ]
  },
  {
   "cell_type": "markdown",
   "id": "05a7bcf9",
   "metadata": {},
   "source": [
    "### Exercise 3 (max 7 points)\n",
    "\n",
    "Define a function which takes a string of arbitrary length ($\\ge 3$) and a triplet, and returns the number of occurrences of the triplet or its reverse in the string. For example the triplet `'AAT'` occurs three times (twice as `'AAT'` and once as `'TAA'`) in `'CAATAATCC'` and the triplet `'AAA'` occurs five times in `'AAAAAAA'`.\n",
    "\n",
    "To get the full marks, you should declare correctly the type hints (the signature of the function) and add a doctest string."
   ]
  },
  {
   "cell_type": "code",
   "execution_count": 10,
   "id": "ce7ecec4",
   "metadata": {},
   "outputs": [],
   "source": [
    "def num_triplets(s: str, triplet: str) -> int:\n",
    "    \"\"\"Return the number of times triplet or its reverse occurs in s.\n",
    "    \n",
    "    >>> num_triplets('CAATAATCC', 'AAT')\n",
    "    3\n",
    "    >>> num_triplets('CAATAATCC', 'TAA')\n",
    "    3\n",
    "    >>> num_triplets('AAAAAAA', 'AAA')\n",
    "    5\n",
    "    \"\"\"\n",
    "    assert len(s) >= 3 and len(triplet) == 3\n",
    "    \n",
    "    rev_triplet = triplet[-1::-1]\n",
    "    res = 0\n",
    "    for i in range(0, len(s)-2):\n",
    "        if s[i:i+3] == triplet or s[i:i+3] == rev_triplet:\n",
    "            res = res + 1\n",
    "    return res"
   ]
  },
  {
   "cell_type": "markdown",
   "id": "190febdb",
   "metadata": {},
   "source": [
    "### Exercise 4 (max 4 points)\n",
    "\n",
    "Define a pandas DataFrame indexed by the possible triplets identified in Exercise 2, with a column reporting the occurrences of each triplet in the genome under analysis. For example, the triplet `'AAA'` should have 446 occurrences."
   ]
  },
  {
   "cell_type": "code",
   "execution_count": 11,
   "id": "38af4da3",
   "metadata": {},
   "outputs": [],
   "source": [
    "df = pd.DataFrame(index=possible_triplets, columns=['num'])\n",
    "df['num'] = df.index.map(lambda x: num_triplets(genome, x))"
   ]
  },
  {
   "cell_type": "code",
   "execution_count": 12,
   "id": "2e53954e",
   "metadata": {},
   "outputs": [],
   "source": [
    "assert df.loc['AAA']['num'] == 446"
   ]
  },
  {
   "cell_type": "markdown",
   "id": "900cb32f",
   "metadata": {},
   "source": [
    "### Exercise 5 (max 2 points)\n",
    "\n",
    "Add a column to the dataframe with values `True` if the number of occurrences is even, and `False` otherwise."
   ]
  },
  {
   "cell_type": "code",
   "execution_count": 13,
   "id": "ba7024cd",
   "metadata": {},
   "outputs": [],
   "source": [
    "df['parity'] = df['num'] % 2 == 0"
   ]
  },
  {
   "cell_type": "code",
   "execution_count": 14,
   "id": "7b9481c4",
   "metadata": {},
   "outputs": [
    {
     "data": {
      "text/html": [
       "<div>\n",
       "<style scoped>\n",
       "    .dataframe tbody tr th:only-of-type {\n",
       "        vertical-align: middle;\n",
       "    }\n",
       "\n",
       "    .dataframe tbody tr th {\n",
       "        vertical-align: top;\n",
       "    }\n",
       "\n",
       "    .dataframe thead th {\n",
       "        text-align: right;\n",
       "    }\n",
       "</style>\n",
       "<table border=\"1\" class=\"dataframe\">\n",
       "  <thead>\n",
       "    <tr style=\"text-align: right;\">\n",
       "      <th></th>\n",
       "      <th>num</th>\n",
       "      <th>parity</th>\n",
       "    </tr>\n",
       "  </thead>\n",
       "  <tbody>\n",
       "    <tr>\n",
       "      <th>CTA</th>\n",
       "      <td>966</td>\n",
       "      <td>True</td>\n",
       "    </tr>\n",
       "    <tr>\n",
       "      <th>CGA</th>\n",
       "      <td>499</td>\n",
       "      <td>False</td>\n",
       "    </tr>\n",
       "    <tr>\n",
       "      <th>GCA</th>\n",
       "      <td>357</td>\n",
       "      <td>False</td>\n",
       "    </tr>\n",
       "    <tr>\n",
       "      <th>ACT</th>\n",
       "      <td>741</td>\n",
       "      <td>False</td>\n",
       "    </tr>\n",
       "    <tr>\n",
       "      <th>CCC</th>\n",
       "      <td>672</td>\n",
       "      <td>True</td>\n",
       "    </tr>\n",
       "    <tr>\n",
       "      <th>TAT</th>\n",
       "      <td>222</td>\n",
       "      <td>True</td>\n",
       "    </tr>\n",
       "    <tr>\n",
       "      <th>GAT</th>\n",
       "      <td>399</td>\n",
       "      <td>False</td>\n",
       "    </tr>\n",
       "    <tr>\n",
       "      <th>GCG</th>\n",
       "      <td>64</td>\n",
       "      <td>True</td>\n",
       "    </tr>\n",
       "    <tr>\n",
       "      <th>GAA</th>\n",
       "      <td>456</td>\n",
       "      <td>True</td>\n",
       "    </tr>\n",
       "    <tr>\n",
       "      <th>GGG</th>\n",
       "      <td>91</td>\n",
       "      <td>False</td>\n",
       "    </tr>\n",
       "    <tr>\n",
       "      <th>ATA</th>\n",
       "      <td>244</td>\n",
       "      <td>True</td>\n",
       "    </tr>\n",
       "    <tr>\n",
       "      <th>ATT</th>\n",
       "      <td>414</td>\n",
       "      <td>True</td>\n",
       "    </tr>\n",
       "    <tr>\n",
       "      <th>CGG</th>\n",
       "      <td>282</td>\n",
       "      <td>True</td>\n",
       "    </tr>\n",
       "    <tr>\n",
       "      <th>GCT</th>\n",
       "      <td>349</td>\n",
       "      <td>False</td>\n",
       "    </tr>\n",
       "    <tr>\n",
       "      <th>AAT</th>\n",
       "      <td>653</td>\n",
       "      <td>False</td>\n",
       "    </tr>\n",
       "    <tr>\n",
       "      <th>AAA</th>\n",
       "      <td>446</td>\n",
       "      <td>True</td>\n",
       "    </tr>\n",
       "    <tr>\n",
       "      <th>CGC</th>\n",
       "      <td>160</td>\n",
       "      <td>True</td>\n",
       "    </tr>\n",
       "    <tr>\n",
       "      <th>AGA</th>\n",
       "      <td>192</td>\n",
       "      <td>True</td>\n",
       "    </tr>\n",
       "    <tr>\n",
       "      <th>GGA</th>\n",
       "      <td>356</td>\n",
       "      <td>True</td>\n",
       "    </tr>\n",
       "    <tr>\n",
       "      <th>CTC</th>\n",
       "      <td>457</td>\n",
       "      <td>False</td>\n",
       "    </tr>\n",
       "    <tr>\n",
       "      <th>CGT</th>\n",
       "      <td>271</td>\n",
       "      <td>False</td>\n",
       "    </tr>\n",
       "    <tr>\n",
       "      <th>CAC</th>\n",
       "      <td>426</td>\n",
       "      <td>True</td>\n",
       "    </tr>\n",
       "    <tr>\n",
       "      <th>GTT</th>\n",
       "      <td>205</td>\n",
       "      <td>False</td>\n",
       "    </tr>\n",
       "    <tr>\n",
       "      <th>AGT</th>\n",
       "      <td>375</td>\n",
       "      <td>False</td>\n",
       "    </tr>\n",
       "    <tr>\n",
       "      <th>TCT</th>\n",
       "      <td>309</td>\n",
       "      <td>False</td>\n",
       "    </tr>\n",
       "    <tr>\n",
       "      <th>CTT</th>\n",
       "      <td>629</td>\n",
       "      <td>False</td>\n",
       "    </tr>\n",
       "    <tr>\n",
       "      <th>TTT</th>\n",
       "      <td>167</td>\n",
       "      <td>False</td>\n",
       "    </tr>\n",
       "    <tr>\n",
       "      <th>TGT</th>\n",
       "      <td>95</td>\n",
       "      <td>False</td>\n",
       "    </tr>\n",
       "    <tr>\n",
       "      <th>CAG</th>\n",
       "      <td>437</td>\n",
       "      <td>False</td>\n",
       "    </tr>\n",
       "    <tr>\n",
       "      <th>GTA</th>\n",
       "      <td>350</td>\n",
       "      <td>True</td>\n",
       "    </tr>\n",
       "    <tr>\n",
       "      <th>CTG</th>\n",
       "      <td>344</td>\n",
       "      <td>True</td>\n",
       "    </tr>\n",
       "    <tr>\n",
       "      <th>CCG</th>\n",
       "      <td>538</td>\n",
       "      <td>True</td>\n",
       "    </tr>\n",
       "    <tr>\n",
       "      <th>ACA</th>\n",
       "      <td>426</td>\n",
       "      <td>True</td>\n",
       "    </tr>\n",
       "    <tr>\n",
       "      <th>CAA</th>\n",
       "      <td>965</td>\n",
       "      <td>False</td>\n",
       "    </tr>\n",
       "    <tr>\n",
       "      <th>GAG</th>\n",
       "      <td>161</td>\n",
       "      <td>False</td>\n",
       "    </tr>\n",
       "    <tr>\n",
       "      <th>GGT</th>\n",
       "      <td>198</td>\n",
       "      <td>True</td>\n",
       "    </tr>\n",
       "    <tr>\n",
       "      <th>CCA</th>\n",
       "      <td>1027</td>\n",
       "      <td>False</td>\n",
       "    </tr>\n",
       "    <tr>\n",
       "      <th>GTG</th>\n",
       "      <td>68</td>\n",
       "      <td>True</td>\n",
       "    </tr>\n",
       "    <tr>\n",
       "      <th>CAT</th>\n",
       "      <td>723</td>\n",
       "      <td>False</td>\n",
       "    </tr>\n",
       "    <tr>\n",
       "      <th>CCT</th>\n",
       "      <td>1145</td>\n",
       "      <td>False</td>\n",
       "    </tr>\n",
       "  </tbody>\n",
       "</table>\n",
       "</div>"
      ],
      "text/plain": [
       "      num  parity\n",
       "CTA   966    True\n",
       "CGA   499   False\n",
       "GCA   357   False\n",
       "ACT   741   False\n",
       "CCC   672    True\n",
       "TAT   222    True\n",
       "GAT   399   False\n",
       "GCG    64    True\n",
       "GAA   456    True\n",
       "GGG    91   False\n",
       "ATA   244    True\n",
       "ATT   414    True\n",
       "CGG   282    True\n",
       "GCT   349   False\n",
       "AAT   653   False\n",
       "AAA   446    True\n",
       "CGC   160    True\n",
       "AGA   192    True\n",
       "GGA   356    True\n",
       "CTC   457   False\n",
       "CGT   271   False\n",
       "CAC   426    True\n",
       "GTT   205   False\n",
       "AGT   375   False\n",
       "TCT   309   False\n",
       "CTT   629   False\n",
       "TTT   167   False\n",
       "TGT    95   False\n",
       "CAG   437   False\n",
       "GTA   350    True\n",
       "CTG   344    True\n",
       "CCG   538    True\n",
       "ACA   426    True\n",
       "CAA   965   False\n",
       "GAG   161   False\n",
       "GGT   198    True\n",
       "CCA  1027   False\n",
       "GTG    68    True\n",
       "CAT   723   False\n",
       "CCT  1145   False"
      ]
     },
     "execution_count": 14,
     "metadata": {},
     "output_type": "execute_result"
    }
   ],
   "source": [
    "df"
   ]
  },
  {
   "cell_type": "markdown",
   "id": "6b38f3d6",
   "metadata": {},
   "source": [
    "### Exercise 6 (max 5 points)\n",
    "\n",
    "\n",
    "Plot the histograms of occurrences, one for the triplets occuring an even number of times (let's call them \"even triplets\"), one for the others. Add to the plot two horizontal lines: one for the mean number of occurences for \"even triplets\" and one for the mean number of occurrences for the others. "
   ]
  },
  {
   "cell_type": "code",
   "execution_count": 15,
   "id": "5bd8319b",
   "metadata": {},
   "outputs": [
    {
     "data": {
      "image/png": "[encoded data removed]",
      "text/plain": [
       "<Figure size 432x288 with 1 Axes>"
      ]
     },
     "metadata": {
      "needs_background": "light"
     },
     "output_type": "display_data"
    }
   ],
   "source": [
    "even = df.query('parity == True')['num']\n",
    "odd = df.query('parity == False')['num']\n",
    "\n",
    "fig, ax = plt.subplots()\n",
    "ax.bar(even.index, even, label='Even')\n",
    "ax.hlines(even.mean(), 0, len(df), label='Mean even', color='b')\n",
    "ax.bar(odd.index, odd, label='Odd')\n",
    "ax.hlines(odd.mean(), 0, len(df), label='Mean odd', color='r')\n",
    "_ = fig.legend()\n"
   ]
  },
  {
   "cell_type": "markdown",
   "id": "b09b7c30",
   "metadata": {},
   "source": [
    "### Exercise 7 (max 3 points)\n",
    "\n",
    "Add a column with the \"standardized number of occurrences\" of each triplet. The *standardized number of occurrences* is defined as the difference between a value and the mean over all the values, divided by the standard deviation over all the values. Check that the resulting values have mean approximately equal to 0, and standard deviation approximately equal to 1. "
   ]
  },
  {
   "cell_type": "code",
   "execution_count": 16,
   "id": "9869ffcb",
   "metadata": {},
   "outputs": [],
   "source": [
    "df['std_num'] = (df['num'] - df['num'].mean()) / df['num'].std()"
   ]
  },
  {
   "cell_type": "code",
   "execution_count": 17,
   "id": "101c0d2a",
   "metadata": {},
   "outputs": [],
   "source": [
    "assert (df['std_num'].mean() - 0) < 1e-10\n",
    "assert (df['std_num'].std() - 1) < 1e-10"
   ]
  },
  {
   "cell_type": "markdown",
   "id": "42430a2f",
   "metadata": {},
   "source": [
    "### Exercise 8 (max 4 points)\n",
    "\n",
    "Consider this statistical model: the *standardized number of occurrences* of even and not even triplets is normally distributed, with an unknown mean, and a standard deviation of 1. Your *a priori* estimation of the mean for both distribution is a normal distribution with mean 0 and standard deviation 2. Use PyMC to sample the posterior distributions after having seen the actual values for even and not even triplets.  Plot the results."
   ]
  },
  {
   "cell_type": "code",
   "execution_count": 22,
   "id": "e20c073d",
   "metadata": {},
   "outputs": [
    {
     "name": "stderr",
     "output_type": "stream",
     "text": [
      "Auto-assigning NUTS sampler...\n",
      "Initializing NUTS using jitter+adapt_diag...\n",
      "Multiprocess sampling (4 chains in 4 jobs)\n",
      "NUTS: [mu_o, mu_e]\n"
     ]
    },
    {
     "data": {
      "text/html": [
       "\n",
       "    <div>\n",
       "        <style>\n",
       "            /* Turns off some styling */\n",
       "            progress {\n",
       "                /* gets rid of default border in Firefox and Opera. */\n",
       "                border: none;\n",
       "                /* Needs to be in here for Safari polyfill so background images work as expected. */\n",
       "                background-size: auto;\n",
       "            }\n",
       "            .progress-bar-interrupted, .progress-bar-interrupted::-webkit-progress-bar {\n",
       "                background: #F44336;\n",
       "            }\n",
       "        </style>\n",
       "      <progress value='8000' class='' max='8000' style='width:300px; height:20px; vertical-align: middle;'></progress>\n",
       "      100.00% [8000/8000 00:03<00:00 Sampling 4 chains, 0 divergences]\n",
       "    </div>\n",
       "    "
      ],
      "text/plain": [
       "<IPython.core.display.HTML object>"
      ]
     },
     "metadata": {},
     "output_type": "display_data"
    },
    {
     "name": "stderr",
     "output_type": "stream",
     "text": [
      "Sampling 4 chains for 1_000 tune and 1_000 draw iterations (4_000 + 4_000 draws total) took 13 seconds.\n"
     ]
    }
   ],
   "source": [
    "mymodel = pm.Model()\n",
    "\n",
    "with mymodel:\n",
    "    mu_e = pm.Normal('mu_e', 0, 2)\n",
    "    mu_o = pm.Normal('mu_o', 0, 2)\n",
    "    \n",
    "\n",
    "\n",
    "    e = pm.Normal('e', mu_e, 1, observed=df.query('parity == True')['std_num'])\n",
    "    o = pm.Normal('o', mu_o, 1, observed=df.query('parity == False')['std_num'])\n",
    "    \n",
    "    post = pm.sample(return_inferencedata=False)\n",
    "    "
   ]
  },
  {
   "cell_type": "code",
   "execution_count": 23,
   "id": "001f98b8",
   "metadata": {},
   "outputs": [
    {
     "data": {
      "image/png": "[encoded data removed]",
      "text/plain": [
       "<Figure size 993.6x331.2 with 2 Axes>"
      ]
     },
     "metadata": {
      "needs_background": "light"
     },
     "output_type": "display_data"
    }
   ],
   "source": [
    "with mymodel:\n",
    "    pm.plot_posterior(post)"
   ]
  },
  {
   "cell_type": "code",
   "execution_count": null,
   "id": "22688235",
   "metadata": {},
   "outputs": [],
   "source": []
  }
 ],
 "metadata": {
  "jupytext": {
   "text_representation": {
    "extension": ".py",
    "format_name": "light",
    "format_version": "1.5",
    "jupytext_version": "1.11.2"
   }
  },
  "kernelspec": {
   "display_name": "Python 3",
   "language": "python",
   "name": "python3"
  },
  "language_info": {
   "codemirror_mode": {
    "name": "ipython",
    "version": 3
   },
   "file_extension": ".py",
   "mimetype": "text/x-python",
   "name": "python",
   "nbconvert_exporter": "python",
   "pygments_lexer": "ipython3",
   "version": "3.9.2"
  }
 },
 "nbformat": 4,
 "nbformat_minor": 5
}
