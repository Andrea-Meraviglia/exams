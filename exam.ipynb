{
 "cells": [
  {
   "cell_type": "markdown",
   "id": "0db928d9",
   "metadata": {},
   "source": [
    "# Programming in Python\n",
    "## Exam: June 21, 2021\n",
    "\n",
    "\n",
    "You can solve the exercises below by using standard Python 3.9 libraries, NumPy, Matplotlib, Pandas, PyMC3.\n",
    "You can browse the documentation: [Python](https://docs.python.org/3.9/), [NumPy](https://numpy.org/doc/stable/user/index.html), [Matplotlib](https://matplotlib.org/stable/contents.html), [Pandas](https://pandas.pydata.org/pandas-docs/stable/user_guide/index.html), [PyMC3](https://docs.pymc.io/).\n",
    "You can also look at the [slides of the course](https://homes.di.unimi.it/monga/lucidi2021/pyqb00.pdf) or your code on [GitHub](https://github.com).\n",
    "\n",
    "**It is forbidden to communicate with others.** \n"
   ]
  },
  {
   "cell_type": "code",
   "execution_count": 47,
   "id": "a99c5f42",
   "metadata": {},
   "outputs": [],
   "source": [
    "import numpy as np              # type: ignore\n",
    "import matplotlib.pyplot as plt # type: ignore\n",
    "%matplotlib inline"
   ]
  },
  {
   "cell_type": "code",
   "execution_count": 48,
   "id": "c8dcb536",
   "metadata": {},
   "outputs": [],
   "source": [
    "import pandas as pd     "
   ]
  },
  {
   "cell_type": "markdown",
   "id": "122240a4",
   "metadata": {},
   "source": [
    "### Exercise 1 (max 2 points)\n",
    "\n",
    "A recent exploration of Venus has discovered a new organism, now known as *Sarchiapus Examinis*. The data collected about *Sarchiapi E.* individuals are available in the file `data.csv`. For each individual the DNA, an age in days, and a length in centimeters were recorded. \n",
    "\n",
    "Read the data in a Pandas DataFrame.\n"
   ]
  },
  {
   "cell_type": "code",
   "execution_count": null,
   "id": "1a55d33d",
   "metadata": {},
   "outputs": [],
   "source": []
  },
  {
   "cell_type": "code",
   "execution_count": 49,
   "id": "4a9e8b9e",
   "metadata": {},
   "outputs": [],
   "source": [
    "dna = pd.read_csv('data.csv') #import"
   ]
  },
  {
   "cell_type": "code",
   "execution_count": 50,
   "id": "0e6a43e1",
   "metadata": {
    "lines_to_next_cell": 2
   },
   "outputs": [
    {
     "data": {
      "text/html": [
       "<div>\n",
       "<style scoped>\n",
       "    .dataframe tbody tr th:only-of-type {\n",
       "        vertical-align: middle;\n",
       "    }\n",
       "\n",
       "    .dataframe tbody tr th {\n",
       "        vertical-align: top;\n",
       "    }\n",
       "\n",
       "    .dataframe thead th {\n",
       "        text-align: right;\n",
       "    }\n",
       "</style>\n",
       "<table border=\"1\" class=\"dataframe\">\n",
       "  <thead>\n",
       "    <tr style=\"text-align: right;\">\n",
       "      <th></th>\n",
       "      <th>Unnamed: 0</th>\n",
       "      <th>dna</th>\n",
       "      <th>age</th>\n",
       "      <th>length</th>\n",
       "    </tr>\n",
       "  </thead>\n",
       "  <tbody>\n",
       "    <tr>\n",
       "      <th>0</th>\n",
       "      <td>0</td>\n",
       "      <td>GACCTCCTCTGTACGGAGCAAGACCTGTCTCCGCTCAGACTGAGGG...</td>\n",
       "      <td>30</td>\n",
       "      <td>3.99</td>\n",
       "    </tr>\n",
       "    <tr>\n",
       "      <th>1</th>\n",
       "      <td>1</td>\n",
       "      <td>AGGCCCGGTTCGCTAGTCTCAGTCTCCGGGACTGGAAAGCATGTCT...</td>\n",
       "      <td>21</td>\n",
       "      <td>3.12</td>\n",
       "    </tr>\n",
       "    <tr>\n",
       "      <th>2</th>\n",
       "      <td>2</td>\n",
       "      <td>TAAGGGAATCGACATTAAGCGTTGGTCTATAAATCCGAAATTTGTA...</td>\n",
       "      <td>24</td>\n",
       "      <td>3.36</td>\n",
       "    </tr>\n",
       "    <tr>\n",
       "      <th>3</th>\n",
       "      <td>3</td>\n",
       "      <td>GCCTCCGTCTGTCCAGTACCTCTTCGAACCCATCGCAAGAGGTCGG...</td>\n",
       "      <td>20</td>\n",
       "      <td>3.93</td>\n",
       "    </tr>\n",
       "    <tr>\n",
       "      <th>4</th>\n",
       "      <td>4</td>\n",
       "      <td>CGCAAAATCGGTTCAAGTCAAGAATCTTGAAGTGACGACGATGGAG...</td>\n",
       "      <td>20</td>\n",
       "      <td>7.18</td>\n",
       "    </tr>\n",
       "    <tr>\n",
       "      <th>...</th>\n",
       "      <td>...</td>\n",
       "      <td>...</td>\n",
       "      <td>...</td>\n",
       "      <td>...</td>\n",
       "    </tr>\n",
       "    <tr>\n",
       "      <th>995</th>\n",
       "      <td>995</td>\n",
       "      <td>CCGTCAAGTGGGTCTCTTTAGAATACATTCCCTTTCCCTGGTTTCC...</td>\n",
       "      <td>27</td>\n",
       "      <td>4.25</td>\n",
       "    </tr>\n",
       "    <tr>\n",
       "      <th>996</th>\n",
       "      <td>996</td>\n",
       "      <td>GCGCAGTCGGAACCTATCGATCTCATAACCGCGGCGCTAAACCCCG...</td>\n",
       "      <td>29</td>\n",
       "      <td>9.50</td>\n",
       "    </tr>\n",
       "    <tr>\n",
       "      <th>997</th>\n",
       "      <td>997</td>\n",
       "      <td>GAACCAACTTGGCCCCATAGCGCGAACTCTTCTCACGTTGCGAGAT...</td>\n",
       "      <td>26</td>\n",
       "      <td>8.15</td>\n",
       "    </tr>\n",
       "    <tr>\n",
       "      <th>998</th>\n",
       "      <td>998</td>\n",
       "      <td>AGAGTGCCGCAGCCGTGGTGATACTCTGATGAGCCGAAATATAAAC...</td>\n",
       "      <td>25</td>\n",
       "      <td>4.82</td>\n",
       "    </tr>\n",
       "    <tr>\n",
       "      <th>999</th>\n",
       "      <td>999</td>\n",
       "      <td>CGAGACCTCTAAAGAGTGACTTATGCACAGTACCAGCCGCTAACGC...</td>\n",
       "      <td>27</td>\n",
       "      <td>4.62</td>\n",
       "    </tr>\n",
       "  </tbody>\n",
       "</table>\n",
       "<p>1000 rows × 4 columns</p>\n",
       "</div>"
      ],
      "text/plain": [
       "     Unnamed: 0                                                dna  age  \\\n",
       "0             0  GACCTCCTCTGTACGGAGCAAGACCTGTCTCCGCTCAGACTGAGGG...   30   \n",
       "1             1  AGGCCCGGTTCGCTAGTCTCAGTCTCCGGGACTGGAAAGCATGTCT...   21   \n",
       "2             2  TAAGGGAATCGACATTAAGCGTTGGTCTATAAATCCGAAATTTGTA...   24   \n",
       "3             3  GCCTCCGTCTGTCCAGTACCTCTTCGAACCCATCGCAAGAGGTCGG...   20   \n",
       "4             4  CGCAAAATCGGTTCAAGTCAAGAATCTTGAAGTGACGACGATGGAG...   20   \n",
       "..          ...                                                ...  ...   \n",
       "995         995  CCGTCAAGTGGGTCTCTTTAGAATACATTCCCTTTCCCTGGTTTCC...   27   \n",
       "996         996  GCGCAGTCGGAACCTATCGATCTCATAACCGCGGCGCTAAACCCCG...   29   \n",
       "997         997  GAACCAACTTGGCCCCATAGCGCGAACTCTTCTCACGTTGCGAGAT...   26   \n",
       "998         998  AGAGTGCCGCAGCCGTGGTGATACTCTGATGAGCCGAAATATAAAC...   25   \n",
       "999         999  CGAGACCTCTAAAGAGTGACTTATGCACAGTACCAGCCGCTAACGC...   27   \n",
       "\n",
       "     length  \n",
       "0      3.99  \n",
       "1      3.12  \n",
       "2      3.36  \n",
       "3      3.93  \n",
       "4      7.18  \n",
       "..      ...  \n",
       "995    4.25  \n",
       "996    9.50  \n",
       "997    8.15  \n",
       "998    4.82  \n",
       "999    4.62  \n",
       "\n",
       "[1000 rows x 4 columns]"
      ]
     },
     "execution_count": 50,
     "metadata": {},
     "output_type": "execute_result"
    }
   ],
   "source": [
    "dna"
   ]
  },
  {
   "cell_type": "markdown",
   "id": "b55a2ae5",
   "metadata": {},
   "source": [
    "### Exercise 2 (max 3 points)\n",
    "\n",
    "Plot the distribution of length."
   ]
  },
  {
   "cell_type": "code",
   "execution_count": 51,
   "id": "4081405f",
   "metadata": {},
   "outputs": [
    {
     "data": {
      "image/png": "[encoded data removed]",
      "text/plain": [
       "<Figure size 432x288 with 1 Axes>"
      ]
     },
     "metadata": {
      "needs_background": "light"
     },
     "output_type": "display_data"
    }
   ],
   "source": [
    "#plot\n",
    "fig,ax=plt.subplots()\n",
    "_=ax.hist(dna['length'], label='Young', density=True, bins='auto')\n",
    "_=ax.set_title('Length distribution')\n",
    "_=ax.set_xlabel('lenght')\n",
    "_=ax.set_ylabel('counts')\n",
    "_=ax.grid()"
   ]
  },
  {
   "cell_type": "code",
   "execution_count": 52,
   "id": "4a243f8e",
   "metadata": {},
   "outputs": [
    {
     "data": {
      "image/png": "[encoded data removed]",
      "text/plain": [
       "<Figure size 432x288 with 1 Axes>"
      ]
     },
     "metadata": {
      "needs_background": "light"
     },
     "output_type": "display_data"
    }
   ],
   "source": [
    "fig, ax = plt.subplots()\n",
    "_=ax.hist(dna['length'], density=True, label='Length', bins='auto')\n",
    "_=ax.set_xlabel('Lenght')\n",
    "_=ax.set_ylabel('counts')\n",
    "_=ax.set_title('Lenght distribution')\n",
    "_=ax.grid()"
   ]
  },
  {
   "cell_type": "markdown",
   "id": "a91b8d74",
   "metadata": {},
   "source": [
    "### Exercise 3 (max 5 points)\n",
    "\n",
    "Collect in a new Pandas DataFrame the mean and standard deviation of length for each age."
   ]
  },
  {
   "cell_type": "code",
   "execution_count": 53,
   "id": "2f994356",
   "metadata": {},
   "outputs": [
    {
     "data": {
      "text/plain": [
       "<pandas.core.groupby.generic.DataFrameGroupBy object at 0x1362696a0>"
      ]
     },
     "execution_count": 53,
     "metadata": {},
     "output_type": "execute_result"
    }
   ],
   "source": [
    "#insert in a new data frame \n",
    "group=dna.groupby(['age'])\n",
    "group"
   ]
  },
  {
   "cell_type": "code",
   "execution_count": null,
   "id": "9ef58a93",
   "metadata": {
    "lines_to_next_cell": 2
   },
   "outputs": [],
   "source": []
  },
  {
   "cell_type": "code",
   "execution_count": 54,
   "id": "f7cfdace",
   "metadata": {},
   "outputs": [
    {
     "data": {
      "text/html": [
       "<div>\n",
       "<style scoped>\n",
       "    .dataframe tbody tr th:only-of-type {\n",
       "        vertical-align: middle;\n",
       "    }\n",
       "\n",
       "    .dataframe tbody tr th {\n",
       "        vertical-align: top;\n",
       "    }\n",
       "\n",
       "    .dataframe thead th {\n",
       "        text-align: right;\n",
       "    }\n",
       "</style>\n",
       "<table border=\"1\" class=\"dataframe\">\n",
       "  <thead>\n",
       "    <tr style=\"text-align: right;\">\n",
       "      <th></th>\n",
       "      <th>mean</th>\n",
       "      <th>std</th>\n",
       "      <th>max</th>\n",
       "    </tr>\n",
       "    <tr>\n",
       "      <th>age</th>\n",
       "      <th></th>\n",
       "      <th></th>\n",
       "      <th></th>\n",
       "    </tr>\n",
       "  </thead>\n",
       "  <tbody>\n",
       "    <tr>\n",
       "      <th>20</th>\n",
       "      <td>6.183011</td>\n",
       "      <td>3.033944</td>\n",
       "      <td>14.44</td>\n",
       "    </tr>\n",
       "    <tr>\n",
       "      <th>21</th>\n",
       "      <td>6.123152</td>\n",
       "      <td>3.046807</td>\n",
       "      <td>17.63</td>\n",
       "    </tr>\n",
       "    <tr>\n",
       "      <th>22</th>\n",
       "      <td>6.895889</td>\n",
       "      <td>3.431232</td>\n",
       "      <td>16.08</td>\n",
       "    </tr>\n",
       "    <tr>\n",
       "      <th>23</th>\n",
       "      <td>6.496957</td>\n",
       "      <td>3.537096</td>\n",
       "      <td>16.79</td>\n",
       "    </tr>\n",
       "    <tr>\n",
       "      <th>24</th>\n",
       "      <td>6.371400</td>\n",
       "      <td>3.447384</td>\n",
       "      <td>15.26</td>\n",
       "    </tr>\n",
       "    <tr>\n",
       "      <th>25</th>\n",
       "      <td>6.092796</td>\n",
       "      <td>2.820211</td>\n",
       "      <td>13.85</td>\n",
       "    </tr>\n",
       "    <tr>\n",
       "      <th>26</th>\n",
       "      <td>6.100777</td>\n",
       "      <td>3.450832</td>\n",
       "      <td>15.54</td>\n",
       "    </tr>\n",
       "    <tr>\n",
       "      <th>27</th>\n",
       "      <td>5.965275</td>\n",
       "      <td>3.031757</td>\n",
       "      <td>13.96</td>\n",
       "    </tr>\n",
       "    <tr>\n",
       "      <th>28</th>\n",
       "      <td>6.042614</td>\n",
       "      <td>3.076516</td>\n",
       "      <td>15.19</td>\n",
       "    </tr>\n",
       "    <tr>\n",
       "      <th>29</th>\n",
       "      <td>5.920769</td>\n",
       "      <td>2.776872</td>\n",
       "      <td>12.94</td>\n",
       "    </tr>\n",
       "    <tr>\n",
       "      <th>30</th>\n",
       "      <td>6.133636</td>\n",
       "      <td>3.007639</td>\n",
       "      <td>11.89</td>\n",
       "    </tr>\n",
       "  </tbody>\n",
       "</table>\n",
       "</div>"
      ],
      "text/plain": [
       "         mean       std    max\n",
       "age                           \n",
       "20   6.183011  3.033944  14.44\n",
       "21   6.123152  3.046807  17.63\n",
       "22   6.895889  3.431232  16.08\n",
       "23   6.496957  3.537096  16.79\n",
       "24   6.371400  3.447384  15.26\n",
       "25   6.092796  2.820211  13.85\n",
       "26   6.100777  3.450832  15.54\n",
       "27   5.965275  3.031757  13.96\n",
       "28   6.042614  3.076516  15.19\n",
       "29   5.920769  2.776872  12.94\n",
       "30   6.133636  3.007639  11.89"
      ]
     },
     "execution_count": 54,
     "metadata": {},
     "output_type": "execute_result"
    }
   ],
   "source": [
    "group=dna.groupby(['age'])\n",
    "group['length'].agg(['mean','std','max',])"
   ]
  },
  {
   "cell_type": "code",
   "execution_count": null,
   "id": "37e3a854",
   "metadata": {},
   "outputs": [],
   "source": []
  },
  {
   "cell_type": "code",
   "execution_count": null,
   "id": "0516926e",
   "metadata": {},
   "outputs": [],
   "source": []
  },
  {
   "cell_type": "code",
   "execution_count": null,
   "id": "a5c84750",
   "metadata": {},
   "outputs": [],
   "source": []
  },
  {
   "cell_type": "markdown",
   "id": "c632c0d3",
   "metadata": {},
   "source": [
    "### Exercise 4 (max 5 points)\n",
    "\n",
    "The gender of a *Sarchiapus E.* individual is defined by the first letter of its DNA: an `'A'` or a `'C'` is considered a male, otherwise is considered a female. Add a column to the data with the gender."
   ]
  },
  {
   "cell_type": "code",
   "execution_count": 55,
   "id": "2382f13f",
   "metadata": {},
   "outputs": [],
   "source": [
    "#male or female\n",
    "def gender(dna)-> str:\n",
    "    if (dna['dna'][0] == 'A')| (dna['dna'][0] == 'C'):\n",
    "        gender = 'male'\n",
    "    else:\n",
    "        gender = 'female'\n",
    "    return gender"
   ]
  },
  {
   "cell_type": "code",
   "execution_count": null,
   "id": "23d53788",
   "metadata": {},
   "outputs": [],
   "source": []
  },
  {
   "cell_type": "code",
   "execution_count": 62,
   "id": "094ad7c5",
   "metadata": {},
   "outputs": [],
   "source": [
    "#chiamare funzione in nuova colonna \n",
    "dna['gender'] = dna.apply (gender,axis=1)\n",
    "dna"
   ]
  },
  {
   "cell_type": "code",
   "execution_count": null,
   "id": "7f37cd81",
   "metadata": {},
   "outputs": [],
   "source": []
  },
  {
   "cell_type": "markdown",
   "id": "093a2f15",
   "metadata": {},
   "source": [
    "### Exercise 5 (max 3 points)\n",
    "\n",
    "Plot the distribution of length for male *Sarchiapi E.*.\n"
   ]
  },
  {
   "cell_type": "code",
   "execution_count": 20,
   "id": "690e4035",
   "metadata": {},
   "outputs": [
    {
     "data": {
      "image/png": "[encoded data removed]",
      "text/plain": [
       "<Figure size 432x288 with 1 Axes>"
      ]
     },
     "metadata": {
      "needs_background": "light"
     },
     "output_type": "display_data"
    }
   ],
   "source": [
    "fig,ax=plt.subplots()\n",
    "length_m = dna.loc[dna['gender'] =='male']['length']\n",
    "_=ax.hist(length_m)\n",
    "_=ax.set_title('distribution of length')\n",
    "_=ax.set_xlabel('lenght')\n",
    "_=ax.grid()"
   ]
  },
  {
   "cell_type": "markdown",
   "id": "1e277add",
   "metadata": {},
   "source": [
    "### Exercise 6 (max 7 points)\n",
    "\n",
    "\n",
    "Define a function `count_twins` that takes a string and a character and returns how many times the substring composed by the character repeated twice can be found in the whole string. For example, if the string is `'ZXXZXXXZCCCX'`, and the character `'X'`, the result should be 3.\n",
    "\n",
    "To get the full marks, you should declare correctly the type hints (the *signature* of the function) and add a doctest string. "
   ]
  },
  {
   "cell_type": "code",
   "execution_count": 34,
   "id": "91755019",
   "metadata": {},
   "outputs": [
    {
     "name": "stdout",
     "output_type": "stream",
     "text": [
      "XX\n"
     ]
    }
   ],
   "source": [
    "stringa='ZaXXZXXXZCCCX'\n",
    "print(stringa[2:4])\n",
    "carattere='X'"
   ]
  },
  {
   "cell_type": "code",
   "execution_count": 35,
   "id": "a38e332c",
   "metadata": {},
   "outputs": [],
   "source": [
    "def count_twins(stringa:str,carattere:str)->int:\n",
    "    count=0\n",
    "    for i in range(0,len(stringa)-1):\n",
    "        if(stringa[i] == stringa[i+1] == carattere):\n",
    "            count=count+1\n",
    "    return count"
   ]
  },
  {
   "cell_type": "code",
   "execution_count": 36,
   "id": "bf83baac",
   "metadata": {},
   "outputs": [
    {
     "data": {
      "text/plain": [
       "3"
      ]
     },
     "execution_count": 36,
     "metadata": {},
     "output_type": "execute_result"
    }
   ],
   "source": [
    "count_twins(stringa,carattere)"
   ]
  },
  {
   "cell_type": "markdown",
   "id": "03db2d3d",
   "metadata": {},
   "source": [
    "### Exercise 7 (max 5 points)\n",
    "\n",
    "Using the function defined in Exercise 5, add a column `a_twins` with the number of `'A'` twins in the DNA of each *Sarchiapus E.*."
   ]
  },
  {
   "cell_type": "code",
   "execution_count": 38,
   "id": "6203b85b",
   "metadata": {},
   "outputs": [
    {
     "data": {
      "text/html": [
       "<div>\n",
       "<style scoped>\n",
       "    .dataframe tbody tr th:only-of-type {\n",
       "        vertical-align: middle;\n",
       "    }\n",
       "\n",
       "    .dataframe tbody tr th {\n",
       "        vertical-align: top;\n",
       "    }\n",
       "\n",
       "    .dataframe thead th {\n",
       "        text-align: right;\n",
       "    }\n",
       "</style>\n",
       "<table border=\"1\" class=\"dataframe\">\n",
       "  <thead>\n",
       "    <tr style=\"text-align: right;\">\n",
       "      <th></th>\n",
       "      <th>Unnamed: 0</th>\n",
       "      <th>dna</th>\n",
       "      <th>age</th>\n",
       "      <th>length</th>\n",
       "      <th>gender</th>\n",
       "      <th>a_twins</th>\n",
       "    </tr>\n",
       "  </thead>\n",
       "  <tbody>\n",
       "    <tr>\n",
       "      <th>0</th>\n",
       "      <td>0</td>\n",
       "      <td>GACCTCCTCTGTACGGAGCAAGACCTGTCTCCGCTCAGACTGAGGG...</td>\n",
       "      <td>30</td>\n",
       "      <td>3.99</td>\n",
       "      <td>female</td>\n",
       "      <td>4</td>\n",
       "    </tr>\n",
       "    <tr>\n",
       "      <th>1</th>\n",
       "      <td>1</td>\n",
       "      <td>AGGCCCGGTTCGCTAGTCTCAGTCTCCGGGACTGGAAAGCATGTCT...</td>\n",
       "      <td>21</td>\n",
       "      <td>3.12</td>\n",
       "      <td>male</td>\n",
       "      <td>5</td>\n",
       "    </tr>\n",
       "    <tr>\n",
       "      <th>2</th>\n",
       "      <td>2</td>\n",
       "      <td>TAAGGGAATCGACATTAAGCGTTGGTCTATAAATCCGAAATTTGTA...</td>\n",
       "      <td>24</td>\n",
       "      <td>3.36</td>\n",
       "      <td>female</td>\n",
       "      <td>8</td>\n",
       "    </tr>\n",
       "    <tr>\n",
       "      <th>3</th>\n",
       "      <td>3</td>\n",
       "      <td>GCCTCCGTCTGTCCAGTACCTCTTCGAACCCATCGCAAGAGGTCGG...</td>\n",
       "      <td>20</td>\n",
       "      <td>3.93</td>\n",
       "      <td>female</td>\n",
       "      <td>4</td>\n",
       "    </tr>\n",
       "    <tr>\n",
       "      <th>4</th>\n",
       "      <td>4</td>\n",
       "      <td>CGCAAAATCGGTTCAAGTCAAGAATCTTGAAGTGACGACGATGGAG...</td>\n",
       "      <td>20</td>\n",
       "      <td>7.18</td>\n",
       "      <td>male</td>\n",
       "      <td>10</td>\n",
       "    </tr>\n",
       "    <tr>\n",
       "      <th>...</th>\n",
       "      <td>...</td>\n",
       "      <td>...</td>\n",
       "      <td>...</td>\n",
       "      <td>...</td>\n",
       "      <td>...</td>\n",
       "      <td>...</td>\n",
       "    </tr>\n",
       "    <tr>\n",
       "      <th>995</th>\n",
       "      <td>995</td>\n",
       "      <td>CCGTCAAGTGGGTCTCTTTAGAATACATTCCCTTTCCCTGGTTTCC...</td>\n",
       "      <td>27</td>\n",
       "      <td>4.25</td>\n",
       "      <td>male</td>\n",
       "      <td>5</td>\n",
       "    </tr>\n",
       "    <tr>\n",
       "      <th>996</th>\n",
       "      <td>996</td>\n",
       "      <td>GCGCAGTCGGAACCTATCGATCTCATAACCGCGGCGCTAAACCCCG...</td>\n",
       "      <td>29</td>\n",
       "      <td>9.50</td>\n",
       "      <td>female</td>\n",
       "      <td>10</td>\n",
       "    </tr>\n",
       "    <tr>\n",
       "      <th>997</th>\n",
       "      <td>997</td>\n",
       "      <td>GAACCAACTTGGCCCCATAGCGCGAACTCTTCTCACGTTGCGAGAT...</td>\n",
       "      <td>26</td>\n",
       "      <td>8.15</td>\n",
       "      <td>female</td>\n",
       "      <td>8</td>\n",
       "    </tr>\n",
       "    <tr>\n",
       "      <th>998</th>\n",
       "      <td>998</td>\n",
       "      <td>AGAGTGCCGCAGCCGTGGTGATACTCTGATGAGCCGAAATATAAAC...</td>\n",
       "      <td>25</td>\n",
       "      <td>4.82</td>\n",
       "      <td>male</td>\n",
       "      <td>5</td>\n",
       "    </tr>\n",
       "    <tr>\n",
       "      <th>999</th>\n",
       "      <td>999</td>\n",
       "      <td>CGAGACCTCTAAAGAGTGACTTATGCACAGTACCAGCCGCTAACGC...</td>\n",
       "      <td>27</td>\n",
       "      <td>4.62</td>\n",
       "      <td>male</td>\n",
       "      <td>6</td>\n",
       "    </tr>\n",
       "  </tbody>\n",
       "</table>\n",
       "<p>1000 rows × 6 columns</p>\n",
       "</div>"
      ],
      "text/plain": [
       "     Unnamed: 0                                                dna  age  \\\n",
       "0             0  GACCTCCTCTGTACGGAGCAAGACCTGTCTCCGCTCAGACTGAGGG...   30   \n",
       "1             1  AGGCCCGGTTCGCTAGTCTCAGTCTCCGGGACTGGAAAGCATGTCT...   21   \n",
       "2             2  TAAGGGAATCGACATTAAGCGTTGGTCTATAAATCCGAAATTTGTA...   24   \n",
       "3             3  GCCTCCGTCTGTCCAGTACCTCTTCGAACCCATCGCAAGAGGTCGG...   20   \n",
       "4             4  CGCAAAATCGGTTCAAGTCAAGAATCTTGAAGTGACGACGATGGAG...   20   \n",
       "..          ...                                                ...  ...   \n",
       "995         995  CCGTCAAGTGGGTCTCTTTAGAATACATTCCCTTTCCCTGGTTTCC...   27   \n",
       "996         996  GCGCAGTCGGAACCTATCGATCTCATAACCGCGGCGCTAAACCCCG...   29   \n",
       "997         997  GAACCAACTTGGCCCCATAGCGCGAACTCTTCTCACGTTGCGAGAT...   26   \n",
       "998         998  AGAGTGCCGCAGCCGTGGTGATACTCTGATGAGCCGAAATATAAAC...   25   \n",
       "999         999  CGAGACCTCTAAAGAGTGACTTATGCACAGTACCAGCCGCTAACGC...   27   \n",
       "\n",
       "     length  gender  a_twins  \n",
       "0      3.99  female        4  \n",
       "1      3.12    male        5  \n",
       "2      3.36  female        8  \n",
       "3      3.93  female        4  \n",
       "4      7.18    male       10  \n",
       "..      ...     ...      ...  \n",
       "995    4.25    male        5  \n",
       "996    9.50  female       10  \n",
       "997    8.15  female        8  \n",
       "998    4.82    male        5  \n",
       "999    4.62    male        6  \n",
       "\n",
       "[1000 rows x 6 columns]"
      ]
     },
     "execution_count": 38,
     "metadata": {},
     "output_type": "execute_result"
    }
   ],
   "source": [
    "#colonna=nomedata.apply( lambda comedata: funzione(), axis)\n",
    "dna['a_twins']=dna.apply(lambda dna: count_twins(dna['dna'],'A'),axis=1)\n",
    "dna"
   ]
  },
  {
   "cell_type": "markdown",
   "id": "52780119",
   "metadata": {},
   "source": [
    "### Exercise 8 (max 3 points)\n",
    "\n",
    "Consider the hypothesis that the length of each *Sarchiapus E.* is normally distributed with a mean equal to the number of `'A'` twins in its DNA and a standard deviation that you assume to be uniformed distributed between 0 and 10. Code this statistical hypothesis as a PyMC3 model and plot the distribution of the standard deviation after having seen the collected data."
   ]
  },
  {
   "cell_type": "code",
   "execution_count": 39,
   "id": "0773649c",
   "metadata": {},
   "outputs": [],
   "source": [
    "import pymc3 as pm "
   ]
  },
  {
   "cell_type": "code",
   "execution_count": 41,
   "id": "34ae54b5",
   "metadata": {},
   "outputs": [],
   "source": [
    "length_pm = pm.Model() \n",
    "\n",
    "with length_pm:\n",
    "    \n",
    "    mu=dna['a_twins']  #richiamo variabile, inizio, fine\n",
    "    sigma=pm.Uniform('sigma',0,10)\n",
    "    \n",
    "    o = pm.Normal('length',mu, sigma, observed=dna['length']) \n",
    "    "
   ]
  },
  {
   "cell_type": "code",
   "execution_count": 42,
   "id": "bdd74bfc",
   "metadata": {},
   "outputs": [
    {
     "name": "stderr",
     "output_type": "stream",
     "text": [
      "Auto-assigning NUTS sampler...\n",
      "Initializing NUTS using jitter+adapt_diag...\n",
      "Multiprocess sampling (4 chains in 4 jobs)\n",
      "NUTS: [sigma]\n"
     ]
    },
    {
     "data": {
      "text/html": [
       "\n",
       "    <div>\n",
       "        <style>\n",
       "            /* Turns off some styling */\n",
       "            progress {\n",
       "                /* gets rid of default border in Firefox and Opera. */\n",
       "                border: none;\n",
       "                /* Needs to be in here for Safari polyfill so background images work as expected. */\n",
       "                background-size: auto;\n",
       "            }\n",
       "            .progress-bar-interrupted, .progress-bar-interrupted::-webkit-progress-bar {\n",
       "                background: #F44336;\n",
       "            }\n",
       "        </style>\n",
       "      <progress value='8000' class='' max='8000' style='width:300px; height:20px; vertical-align: middle;'></progress>\n",
       "      100.00% [8000/8000 00:02<00:00 Sampling 4 chains, 0 divergences]\n",
       "    </div>\n",
       "    "
      ],
      "text/plain": [
       "<IPython.core.display.HTML object>"
      ]
     },
     "metadata": {},
     "output_type": "display_data"
    },
    {
     "name": "stderr",
     "output_type": "stream",
     "text": [
      "Sampling 4 chains for 1_000 tune and 1_000 draw iterations (4_000 + 4_000 draws total) took 11 seconds.\n"
     ]
    }
   ],
   "source": [
    "with length_pm:\n",
    "    posterior= pm.sample(return_inferencedata=False)"
   ]
  },
  {
   "cell_type": "code",
   "execution_count": 43,
   "id": "94dc4c1a",
   "metadata": {
    "lines_to_next_cell": 2
   },
   "outputs": [
    {
     "data": {
      "text/plain": [
       "{'sigma_interval__': -1.785220238430687, 'sigma': 1.4365973654464315}"
      ]
     },
     "execution_count": 43,
     "metadata": {},
     "output_type": "execute_result"
    }
   ],
   "source": [
    "posterior[1]"
   ]
  },
  {
   "cell_type": "code",
   "execution_count": 44,
   "id": "c8b1f1bb",
   "metadata": {},
   "outputs": [
    {
     "data": {
      "image/png": "[encoded data removed]",
      "text/plain": [
       "<Figure size 432x288 with 1 Axes>"
      ]
     },
     "metadata": {
      "needs_background": "light"
     },
     "output_type": "display_data"
    }
   ],
   "source": [
    "fig, ax =plt.subplots()\n",
    "_=ax.hist(posterior['sigma'],bins='auto',density=True, color='c', ec='k')\n",
    "_=ax.set_title('posterior lenght')\n",
    "_=ax.grid()"
   ]
  },
  {
   "cell_type": "code",
   "execution_count": 46,
   "id": "b32cb967",
   "metadata": {},
   "outputs": [
    {
     "data": {
      "image/png": "[encoded data removed]",
      "text/plain": [
       "<Figure size 432x288 with 1 Axes>"
      ]
     },
     "metadata": {
      "needs_background": "light"
     },
     "output_type": "display_data"
    }
   ],
   "source": [
    "with length_pm:\n",
    "    pm.plot_posterior(posterior)"
   ]
  },
  {
   "cell_type": "code",
   "execution_count": null,
   "id": "f80b5d47",
   "metadata": {},
   "outputs": [],
   "source": []
  }
 ],
 "metadata": {
  "jupytext": {
   "text_representation": {
    "extension": ".py",
    "format_name": "light",
    "format_version": "1.5",
    "jupytext_version": "1.11.2"
   }
  },
  "kernelspec": {
   "display_name": "Python 3",
   "language": "python",
   "name": "python3"
  },
  "language_info": {
   "codemirror_mode": {
    "name": "ipython",
    "version": 3
   },
   "file_extension": ".py",
   "mimetype": "text/x-python",
   "name": "python",
   "nbconvert_exporter": "python",
   "pygments_lexer": "ipython3",
   "version": "3.9.2"
  }
 },
 "nbformat": 4,
 "nbformat_minor": 5
}
