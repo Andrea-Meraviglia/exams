{
 "cells": [
  {
   "cell_type": "markdown",
   "id": "cd9bc10c",
   "metadata": {},
   "source": [
    "# Programming in Python\n",
    "## Exam: July 19, 2021\n",
    "\n",
    "\n",
    "You can solve the exercises below by using standard Python 3.9 libraries, NumPy, Matplotlib, Pandas, PyMC3.\n",
    "You can browse the documentation: [Python](https://docs.python.org/3.9/), [NumPy](https://numpy.org/doc/stable/user/index.html), [Matplotlib](https://matplotlib.org/3.3.1/contents.html), [Pandas](https://pandas.pydata.org/pandas-docs/version/1.2.5/), [PyMC3](https://docs.pymc.io/).\n",
    "You can also look at the [slides of the course](https://homes.di.unimi.it/monga/lucidi2021/pyqb00.pdf) or your code on [GitHub](https://github.com).\n",
    "\n",
    "**It is forbidden to communicate with others.** \n"
   ]
  },
  {
   "cell_type": "code",
   "execution_count": 3,
   "id": "1f8d662d",
   "metadata": {},
   "outputs": [],
   "source": [
    "%matplotlib inline\n",
    "import numpy as np   # type: ignore\n",
    "import pandas as pd  # type: ignore\n",
    "import matplotlib.pyplot as plt # type: ignore\n",
    "import pymc3 as pm   # type: ignore"
   ]
  },
  {
   "cell_type": "markdown",
   "id": "4c57753b",
   "metadata": {},
   "source": [
    "### Exercise 1 (max 3 points)\n",
    "\n",
    "Consider a bidimensional grid with 33x33 dots. Plot the dots."
   ]
  },
  {
   "cell_type": "code",
   "execution_count": 4,
   "id": "a3a2f2f2",
   "metadata": {
    "lines_to_next_cell": 0
   },
   "outputs": [
    {
     "data": {
      "image/png": "[encoded data removed]",
      "text/plain": [
       "<Figure size 720x720 with 1 Axes>"
      ]
     },
     "metadata": {
      "needs_background": "light"
     },
     "output_type": "display_data"
    }
   ],
   "source": [
    "x = np.linspace(-16, 16, 33)\n",
    "y = np.linspace(-16, 16, 33)\n",
    "grid = np.meshgrid(x, y)\n",
    "\n",
    "fig, ax = plt.subplots(figsize=(10,10))\n",
    "_ = ax.scatter(grid[0], grid[1], s=.2)"
   ]
  },
  {
   "cell_type": "code",
   "execution_count": 5,
   "id": "ab1c1744",
   "metadata": {},
   "outputs": [
    {
     "data": {
      "image/png": "[encoded data removed]",
      "text/plain": [
       "<Figure size 720x720 with 1 Axes>"
      ]
     },
     "metadata": {
      "needs_background": "light"
     },
     "output_type": "display_data"
    }
   ],
   "source": [
    "fig, ax= plt.subplots(figsize=(10,10))\n",
    "_=ax.scatter(grid[0],grid[1])"
   ]
  },
  {
   "cell_type": "code",
   "execution_count": null,
   "id": "e6d607a0",
   "metadata": {},
   "outputs": [],
   "source": []
  },
  {
   "cell_type": "code",
   "execution_count": null,
   "id": "1fd2fe59",
   "metadata": {
    "lines_to_next_cell": 2
   },
   "outputs": [],
   "source": []
  },
  {
   "cell_type": "markdown",
   "id": "0a687dd8",
   "metadata": {},
   "source": [
    "### Exercise 2 (max 5 points)\n",
    "\n",
    "On the grid defined in Exercise 1, compute 5 random walks, starting in the central dot, going on for 100 steps of 1 in the horizontal, vertical or both directions. When a walk reaches the border of the grid, it starts again on the opposite side: in other words, on a line of dots to the left of the leftmost dot there is the rightmost one; same on the right, above, and below."
   ]
  },
  {
   "cell_type": "code",
   "execution_count": 6,
   "id": "e963199e",
   "metadata": {},
   "outputs": [],
   "source": [
    "def one_step(start: tuple[int, int], step: tuple[int, int], dim: int = 16) -> tuple[int, int]:\n",
    "    \"\"\"Return the point after a step applied to start. \n",
    "    The borders are at -dim and dim. \n",
    "    \n",
    "    >>> one_step((2, 1), (1, 1))\n",
    "    (3, 2)\n",
    "    \n",
    "    >>> one_step((0,16), (0, 1))\n",
    "    (0, -16)\n",
    "    \"\"\"\n",
    "    \n",
    "    ris = [0, 0]\n",
    "    for axis in (0, 1):\n",
    "        ris[axis] = start[axis] + step[axis]\n",
    "        \n",
    "        if ris[axis] > dim:\n",
    "            ris[axis] = ris[axis] - dim*2 - 1\n",
    "        elif ris[axis] < -dim:\n",
    "            ris[axis] = ris[axis] + dim*2 + 1\n",
    "    \n",
    "    return (ris[0], ris[1])    \n",
    "\n",
    "\n",
    "# +\n",
    "walk = np.zeros((5, 100, 2))\n",
    "\n",
    "for w in range(0, 5):\n",
    "    steps = np.random.randint(-1, 1+1, size=(100-1, 2))\n",
    "\n",
    "    i = 1\n",
    "    for s in steps:\n",
    "        walk[w][i] = np.array(one_step((walk[w][i-1][0], walk[w][i-1][1]), (s[0], s[1])))\n",
    "        i = i + 1"
   ]
  },
  {
   "cell_type": "code",
   "execution_count": 7,
   "id": "6632831c",
   "metadata": {},
   "outputs": [],
   "source": [
    "for w in range(0, 5):\n",
    "    steps = np.random.randint(-1, 1+1, size=(100-1, 2))\n",
    "\n",
    "    i = 1\n",
    "    for s in steps:\n",
    "        walk[w][i] = np.array(one_step((walk[w][i-1][0], walk[w][i-1][1]), (s[0], s[1])))\n",
    "        i = i + 1"
   ]
  },
  {
   "cell_type": "code",
   "execution_count": 8,
   "id": "85e0a33f",
   "metadata": {},
   "outputs": [
    {
     "data": {
      "text/plain": [
       "array([[ 1,  0],\n",
       "       [ 1,  1],\n",
       "       [-1, -1],\n",
       "       [-1,  1],\n",
       "       [ 0,  1],\n",
       "       [ 1,  1],\n",
       "       [ 1, -1],\n",
       "       [ 1,  0],\n",
       "       [-1, -1],\n",
       "       [ 1,  0],\n",
       "       [ 0,  0],\n",
       "       [ 0, -1],\n",
       "       [-1, -1],\n",
       "       [ 0,  1],\n",
       "       [ 1,  0],\n",
       "       [ 0,  1],\n",
       "       [ 0, -1],\n",
       "       [ 1,  0],\n",
       "       [ 0,  1],\n",
       "       [ 0, -1],\n",
       "       [ 1, -1],\n",
       "       [ 1,  1],\n",
       "       [ 1, -1],\n",
       "       [-1,  0],\n",
       "       [ 0,  0],\n",
       "       [-1,  0],\n",
       "       [ 0,  1],\n",
       "       [ 1,  0],\n",
       "       [ 1, -1],\n",
       "       [ 0,  1],\n",
       "       [ 1,  0],\n",
       "       [ 1, -1],\n",
       "       [-1,  1],\n",
       "       [ 0, -1],\n",
       "       [ 1, -1],\n",
       "       [ 1, -1],\n",
       "       [ 1, -1],\n",
       "       [ 0, -1],\n",
       "       [-1,  0],\n",
       "       [ 1, -1],\n",
       "       [ 0,  1],\n",
       "       [ 1, -1],\n",
       "       [-1,  1],\n",
       "       [ 0, -1],\n",
       "       [ 0, -1],\n",
       "       [ 0,  1],\n",
       "       [ 0,  1],\n",
       "       [ 0, -1],\n",
       "       [ 0,  0],\n",
       "       [-1, -1],\n",
       "       [-1, -1],\n",
       "       [ 1,  1],\n",
       "       [ 0,  1],\n",
       "       [-1,  1],\n",
       "       [-1, -1],\n",
       "       [-1, -1],\n",
       "       [-1,  0],\n",
       "       [ 0, -1],\n",
       "       [ 1,  0],\n",
       "       [-1, -1],\n",
       "       [-1,  1],\n",
       "       [ 1, -1],\n",
       "       [-1, -1],\n",
       "       [ 0,  1],\n",
       "       [-1, -1],\n",
       "       [ 1,  0],\n",
       "       [ 0,  0],\n",
       "       [ 1,  1],\n",
       "       [ 0,  0],\n",
       "       [-1,  0],\n",
       "       [ 1,  1],\n",
       "       [ 1,  0],\n",
       "       [-1,  1],\n",
       "       [ 0,  0],\n",
       "       [ 1,  0],\n",
       "       [-1,  0],\n",
       "       [-1,  0],\n",
       "       [ 0,  1],\n",
       "       [-1,  1],\n",
       "       [ 1,  0],\n",
       "       [ 0, -1],\n",
       "       [-1,  0],\n",
       "       [-1,  0],\n",
       "       [ 0,  0],\n",
       "       [ 0, -1],\n",
       "       [-1,  1],\n",
       "       [-1, -1],\n",
       "       [ 1,  0],\n",
       "       [ 1,  0],\n",
       "       [-1,  0],\n",
       "       [ 1,  1],\n",
       "       [-1, -1],\n",
       "       [-1,  1],\n",
       "       [ 1,  0],\n",
       "       [ 0,  0],\n",
       "       [-1,  1],\n",
       "       [ 1,  0],\n",
       "       [ 0,  1],\n",
       "       [ 1,  1]])"
      ]
     },
     "execution_count": 8,
     "metadata": {},
     "output_type": "execute_result"
    }
   ],
   "source": [
    "step=np.random.randint(-1, 2, size=(99,2))\n",
    "step"
   ]
  },
  {
   "cell_type": "code",
   "execution_count": null,
   "id": "615aa164",
   "metadata": {},
   "outputs": [],
   "source": []
  },
  {
   "cell_type": "code",
   "execution_count": null,
   "id": "997ba7f1",
   "metadata": {},
   "outputs": [],
   "source": []
  },
  {
   "cell_type": "markdown",
   "id": "d55d8ab5",
   "metadata": {},
   "source": [
    "### Exercise 3 (max 3 points)\n",
    "\n",
    "Plot the walks computed in Exercise 2."
   ]
  },
  {
   "cell_type": "code",
   "execution_count": 9,
   "id": "f38dce64",
   "metadata": {},
   "outputs": [
    {
     "data": {
      "image/png": "[encoded data removed]",
      "text/plain": [
       "<Figure size 720x720 with 1 Axes>"
      ]
     },
     "metadata": {
      "needs_background": "light"
     },
     "output_type": "display_data"
    }
   ],
   "source": [
    "fig, ax = plt.subplots(figsize=(10,10))\n",
    "ax.scatter(grid[0], grid[1], s=.2, color='black')\n",
    "for w in range(0,5):\n",
    "    _ = ax.plot(walk[w,:,0],walk[w,:,1])"
   ]
  },
  {
   "cell_type": "markdown",
   "id": "13b95baa",
   "metadata": {},
   "source": [
    "### Exercise 4 (max 7 points)\n",
    "\n",
    "Define a function that takes two random walks and computes a new one. The resulting walk:\n",
    "- has a length equal to the sum of the lengths of the given walks minus one\n",
    "- the first half is the first given\n",
    "- the second half is the second given, traslated such as the first step is applied to the last position of the first given walk\n",
    "\n",
    "For example: if the two walks are `[(0,0), (1,1)]` and `[(0,0), (0,-1)]`, the resulting walk will be `[(0,0), (1,1), (1,0)]`\n",
    "\n",
    "\n",
    "To get the full marks, you should declare correctly the type hints (the signature of the function) and add a doctest string."
   ]
  },
  {
   "cell_type": "code",
   "execution_count": 10,
   "id": "0e32e3e6",
   "metadata": {},
   "outputs": [],
   "source": [
    "def append_walk(w1: list[tuple[int, int]], w2: list[tuple[int, int]], dim: int = 16) -> list[tuple[int, int]]:\n",
    "    \"\"\"Append w2 to w1.\n",
    "    \n",
    "    >>> append_walk([(0, 0), (1, 1)], [(0, 0), (0, -1)])\n",
    "    [(0, 0), (1, 1), (1, 0)]\n",
    "    \n",
    "    \"\"\"\n",
    "    \n",
    "    ris = w1\n",
    "    i = len(w1) - 1\n",
    "    for p in w2[1:]:\n",
    "        iw = i - len(w1) + 1\n",
    "        s = (p[0] - w2[iw][0], p[1] -  w2[iw][1])\n",
    "        ris.append(one_step(w1[i], s))\n",
    "        i = i + 1\n",
    "       \n",
    "    return ris"
   ]
  },
  {
   "cell_type": "code",
   "execution_count": null,
   "id": "514db964",
   "metadata": {},
   "outputs": [],
   "source": []
  },
  {
   "cell_type": "markdown",
   "id": "315150b1",
   "metadata": {},
   "source": [
    "### Exercise 5 (max 2 points)\n",
    "\n",
    "Load the data contained in the file `iris.csv` in a Pandas DataFrame."
   ]
  },
  {
   "cell_type": "code",
   "execution_count": 19,
   "id": "c9c48a64",
   "metadata": {},
   "outputs": [
    {
     "data": {
      "text/html": [
       "<div>\n",
       "<style scoped>\n",
       "    .dataframe tbody tr th:only-of-type {\n",
       "        vertical-align: middle;\n",
       "    }\n",
       "\n",
       "    .dataframe tbody tr th {\n",
       "        vertical-align: top;\n",
       "    }\n",
       "\n",
       "    .dataframe thead th {\n",
       "        text-align: right;\n",
       "    }\n",
       "</style>\n",
       "<table border=\"1\" class=\"dataframe\">\n",
       "  <thead>\n",
       "    <tr style=\"text-align: right;\">\n",
       "      <th></th>\n",
       "      <th>sepal length</th>\n",
       "      <th>sepal width</th>\n",
       "      <th>petal length</th>\n",
       "      <th>petal width</th>\n",
       "      <th>class</th>\n",
       "    </tr>\n",
       "  </thead>\n",
       "  <tbody>\n",
       "    <tr>\n",
       "      <th>0</th>\n",
       "      <td>5.1</td>\n",
       "      <td>3.5</td>\n",
       "      <td>1.4</td>\n",
       "      <td>0.2</td>\n",
       "      <td>Iris-setosa</td>\n",
       "    </tr>\n",
       "    <tr>\n",
       "      <th>1</th>\n",
       "      <td>4.9</td>\n",
       "      <td>3.0</td>\n",
       "      <td>1.4</td>\n",
       "      <td>0.2</td>\n",
       "      <td>Iris-setosa</td>\n",
       "    </tr>\n",
       "    <tr>\n",
       "      <th>2</th>\n",
       "      <td>4.7</td>\n",
       "      <td>3.2</td>\n",
       "      <td>1.3</td>\n",
       "      <td>0.2</td>\n",
       "      <td>Iris-setosa</td>\n",
       "    </tr>\n",
       "    <tr>\n",
       "      <th>3</th>\n",
       "      <td>4.6</td>\n",
       "      <td>3.1</td>\n",
       "      <td>1.5</td>\n",
       "      <td>0.2</td>\n",
       "      <td>Iris-setosa</td>\n",
       "    </tr>\n",
       "    <tr>\n",
       "      <th>4</th>\n",
       "      <td>5.0</td>\n",
       "      <td>3.6</td>\n",
       "      <td>1.4</td>\n",
       "      <td>0.2</td>\n",
       "      <td>Iris-setosa</td>\n",
       "    </tr>\n",
       "    <tr>\n",
       "      <th>...</th>\n",
       "      <td>...</td>\n",
       "      <td>...</td>\n",
       "      <td>...</td>\n",
       "      <td>...</td>\n",
       "      <td>...</td>\n",
       "    </tr>\n",
       "    <tr>\n",
       "      <th>145</th>\n",
       "      <td>6.7</td>\n",
       "      <td>3.0</td>\n",
       "      <td>5.2</td>\n",
       "      <td>2.3</td>\n",
       "      <td>Iris-virginica</td>\n",
       "    </tr>\n",
       "    <tr>\n",
       "      <th>146</th>\n",
       "      <td>6.3</td>\n",
       "      <td>2.5</td>\n",
       "      <td>5.0</td>\n",
       "      <td>1.9</td>\n",
       "      <td>Iris-virginica</td>\n",
       "    </tr>\n",
       "    <tr>\n",
       "      <th>147</th>\n",
       "      <td>6.5</td>\n",
       "      <td>3.0</td>\n",
       "      <td>5.2</td>\n",
       "      <td>2.0</td>\n",
       "      <td>Iris-virginica</td>\n",
       "    </tr>\n",
       "    <tr>\n",
       "      <th>148</th>\n",
       "      <td>6.2</td>\n",
       "      <td>3.4</td>\n",
       "      <td>5.4</td>\n",
       "      <td>2.3</td>\n",
       "      <td>Iris-virginica</td>\n",
       "    </tr>\n",
       "    <tr>\n",
       "      <th>149</th>\n",
       "      <td>5.9</td>\n",
       "      <td>3.0</td>\n",
       "      <td>5.1</td>\n",
       "      <td>1.8</td>\n",
       "      <td>Iris-virginica</td>\n",
       "    </tr>\n",
       "  </tbody>\n",
       "</table>\n",
       "<p>150 rows × 5 columns</p>\n",
       "</div>"
      ],
      "text/plain": [
       "     sepal length  sepal width  petal length  petal width           class\n",
       "0             5.1          3.5           1.4          0.2     Iris-setosa\n",
       "1             4.9          3.0           1.4          0.2     Iris-setosa\n",
       "2             4.7          3.2           1.3          0.2     Iris-setosa\n",
       "3             4.6          3.1           1.5          0.2     Iris-setosa\n",
       "4             5.0          3.6           1.4          0.2     Iris-setosa\n",
       "..            ...          ...           ...          ...             ...\n",
       "145           6.7          3.0           5.2          2.3  Iris-virginica\n",
       "146           6.3          2.5           5.0          1.9  Iris-virginica\n",
       "147           6.5          3.0           5.2          2.0  Iris-virginica\n",
       "148           6.2          3.4           5.4          2.3  Iris-virginica\n",
       "149           5.9          3.0           5.1          1.8  Iris-virginica\n",
       "\n",
       "[150 rows x 5 columns]"
      ]
     },
     "execution_count": 19,
     "metadata": {},
     "output_type": "execute_result"
    }
   ],
   "source": [
    "iris = pd.read_csv('iris.csv', sep=',')\n",
    "iris"
   ]
  },
  {
   "cell_type": "code",
   "execution_count": 12,
   "id": "de60c8a9",
   "metadata": {},
   "outputs": [
    {
     "data": {
      "text/html": [
       "<div>\n",
       "<style scoped>\n",
       "    .dataframe tbody tr th:only-of-type {\n",
       "        vertical-align: middle;\n",
       "    }\n",
       "\n",
       "    .dataframe tbody tr th {\n",
       "        vertical-align: top;\n",
       "    }\n",
       "\n",
       "    .dataframe thead th {\n",
       "        text-align: right;\n",
       "    }\n",
       "</style>\n",
       "<table border=\"1\" class=\"dataframe\">\n",
       "  <thead>\n",
       "    <tr style=\"text-align: right;\">\n",
       "      <th></th>\n",
       "      <th>sepal length</th>\n",
       "      <th>sepal width</th>\n",
       "      <th>petal length</th>\n",
       "      <th>petal width</th>\n",
       "      <th>class</th>\n",
       "    </tr>\n",
       "  </thead>\n",
       "  <tbody>\n",
       "    <tr>\n",
       "      <th>0</th>\n",
       "      <td>5.1</td>\n",
       "      <td>3.5</td>\n",
       "      <td>1.4</td>\n",
       "      <td>0.2</td>\n",
       "      <td>Iris-setosa</td>\n",
       "    </tr>\n",
       "    <tr>\n",
       "      <th>1</th>\n",
       "      <td>4.9</td>\n",
       "      <td>3.0</td>\n",
       "      <td>1.4</td>\n",
       "      <td>0.2</td>\n",
       "      <td>Iris-setosa</td>\n",
       "    </tr>\n",
       "    <tr>\n",
       "      <th>2</th>\n",
       "      <td>4.7</td>\n",
       "      <td>3.2</td>\n",
       "      <td>1.3</td>\n",
       "      <td>0.2</td>\n",
       "      <td>Iris-setosa</td>\n",
       "    </tr>\n",
       "    <tr>\n",
       "      <th>3</th>\n",
       "      <td>4.6</td>\n",
       "      <td>3.1</td>\n",
       "      <td>1.5</td>\n",
       "      <td>0.2</td>\n",
       "      <td>Iris-setosa</td>\n",
       "    </tr>\n",
       "    <tr>\n",
       "      <th>4</th>\n",
       "      <td>5.0</td>\n",
       "      <td>3.6</td>\n",
       "      <td>1.4</td>\n",
       "      <td>0.2</td>\n",
       "      <td>Iris-setosa</td>\n",
       "    </tr>\n",
       "    <tr>\n",
       "      <th>50</th>\n",
       "      <td>7.0</td>\n",
       "      <td>3.2</td>\n",
       "      <td>4.7</td>\n",
       "      <td>1.4</td>\n",
       "      <td>Iris-versicolor</td>\n",
       "    </tr>\n",
       "    <tr>\n",
       "      <th>51</th>\n",
       "      <td>6.4</td>\n",
       "      <td>3.2</td>\n",
       "      <td>4.5</td>\n",
       "      <td>1.5</td>\n",
       "      <td>Iris-versicolor</td>\n",
       "    </tr>\n",
       "    <tr>\n",
       "      <th>52</th>\n",
       "      <td>6.9</td>\n",
       "      <td>3.1</td>\n",
       "      <td>4.9</td>\n",
       "      <td>1.5</td>\n",
       "      <td>Iris-versicolor</td>\n",
       "    </tr>\n",
       "    <tr>\n",
       "      <th>53</th>\n",
       "      <td>5.5</td>\n",
       "      <td>2.3</td>\n",
       "      <td>4.0</td>\n",
       "      <td>1.3</td>\n",
       "      <td>Iris-versicolor</td>\n",
       "    </tr>\n",
       "    <tr>\n",
       "      <th>54</th>\n",
       "      <td>6.5</td>\n",
       "      <td>2.8</td>\n",
       "      <td>4.6</td>\n",
       "      <td>1.5</td>\n",
       "      <td>Iris-versicolor</td>\n",
       "    </tr>\n",
       "    <tr>\n",
       "      <th>100</th>\n",
       "      <td>6.3</td>\n",
       "      <td>3.3</td>\n",
       "      <td>6.0</td>\n",
       "      <td>2.5</td>\n",
       "      <td>Iris-virginica</td>\n",
       "    </tr>\n",
       "    <tr>\n",
       "      <th>101</th>\n",
       "      <td>5.8</td>\n",
       "      <td>2.7</td>\n",
       "      <td>5.1</td>\n",
       "      <td>1.9</td>\n",
       "      <td>Iris-virginica</td>\n",
       "    </tr>\n",
       "    <tr>\n",
       "      <th>102</th>\n",
       "      <td>7.1</td>\n",
       "      <td>3.0</td>\n",
       "      <td>5.9</td>\n",
       "      <td>2.1</td>\n",
       "      <td>Iris-virginica</td>\n",
       "    </tr>\n",
       "    <tr>\n",
       "      <th>103</th>\n",
       "      <td>6.3</td>\n",
       "      <td>2.9</td>\n",
       "      <td>5.6</td>\n",
       "      <td>1.8</td>\n",
       "      <td>Iris-virginica</td>\n",
       "    </tr>\n",
       "    <tr>\n",
       "      <th>104</th>\n",
       "      <td>6.5</td>\n",
       "      <td>3.0</td>\n",
       "      <td>5.8</td>\n",
       "      <td>2.2</td>\n",
       "      <td>Iris-virginica</td>\n",
       "    </tr>\n",
       "  </tbody>\n",
       "</table>\n",
       "</div>"
      ],
      "text/plain": [
       "     sepal length  sepal width  petal length  petal width            class\n",
       "0             5.1          3.5           1.4          0.2      Iris-setosa\n",
       "1             4.9          3.0           1.4          0.2      Iris-setosa\n",
       "2             4.7          3.2           1.3          0.2      Iris-setosa\n",
       "3             4.6          3.1           1.5          0.2      Iris-setosa\n",
       "4             5.0          3.6           1.4          0.2      Iris-setosa\n",
       "50            7.0          3.2           4.7          1.4  Iris-versicolor\n",
       "51            6.4          3.2           4.5          1.5  Iris-versicolor\n",
       "52            6.9          3.1           4.9          1.5  Iris-versicolor\n",
       "53            5.5          2.3           4.0          1.3  Iris-versicolor\n",
       "54            6.5          2.8           4.6          1.5  Iris-versicolor\n",
       "100           6.3          3.3           6.0          2.5   Iris-virginica\n",
       "101           5.8          2.7           5.1          1.9   Iris-virginica\n",
       "102           7.1          3.0           5.9          2.1   Iris-virginica\n",
       "103           6.3          2.9           5.6          1.8   Iris-virginica\n",
       "104           6.5          3.0           5.8          2.2   Iris-virginica"
      ]
     },
     "execution_count": 12,
     "metadata": {},
     "output_type": "execute_result"
    }
   ],
   "source": [
    "o=iris.groupby('class')\n",
    "o.head()"
   ]
  },
  {
   "cell_type": "code",
   "execution_count": null,
   "id": "23781a50",
   "metadata": {},
   "outputs": [],
   "source": []
  },
  {
   "cell_type": "markdown",
   "id": "ecedacca",
   "metadata": {},
   "source": [
    "### Exercise 6 (max 3 points)\n",
    "\n",
    "\n",
    "Add to the dataframe two columns for the ratio between width and length, for petals and sepals."
   ]
  },
  {
   "cell_type": "code",
   "execution_count": 13,
   "id": "770f7654",
   "metadata": {},
   "outputs": [],
   "source": [
    "iris['petal ratio'] = iris['petal width'] / iris['petal length']\n",
    "iris['sepal ratio'] = iris['sepal width'] / iris['sepal length']"
   ]
  },
  {
   "cell_type": "code",
   "execution_count": 14,
   "id": "c5d1255f",
   "metadata": {},
   "outputs": [],
   "source": [
    "setosa=iris.loc[iris['class']=='Iris-setosa']\n",
    "versicolor=iris.loc[iris['class']=='Iris-versicolor']\n",
    "virginica=iris.loc[iris['class']=='Iris-virginica']"
   ]
  },
  {
   "cell_type": "code",
   "execution_count": 15,
   "id": "9675e23c",
   "metadata": {
    "lines_to_next_cell": 2
   },
   "outputs": [
    {
     "data": {
      "image/png": "[encoded data removed]",
      "text/plain": [
       "<Figure size 720x720 with 1 Axes>"
      ]
     },
     "metadata": {
      "needs_background": "light"
     },
     "output_type": "display_data"
    }
   ],
   "source": [
    "fig, ax= plt.subplots(figsize=(10,10))\n",
    "_=ax.hist(setosa['sepal ratio'])\n",
    "_=ax.hist(versicolor['sepal ratio'])\n",
    "_=ax.hist(virginica['sepal ratio'])"
   ]
  },
  {
   "cell_type": "markdown",
   "id": "4d062ce0",
   "metadata": {},
   "source": [
    "### Exercise 7 (max 5 points)\n",
    "\n",
    "Plot the histograms of the sepal ratio computed in Exercise 6 for each iris class. Put the three plots in a single chart."
   ]
  },
  {
   "cell_type": "code",
   "execution_count": 16,
   "id": "1b0a2fb0",
   "metadata": {},
   "outputs": [
    {
     "data": {
      "text/html": [
       "<div>\n",
       "<style scoped>\n",
       "    .dataframe tbody tr th:only-of-type {\n",
       "        vertical-align: middle;\n",
       "    }\n",
       "\n",
       "    .dataframe tbody tr th {\n",
       "        vertical-align: top;\n",
       "    }\n",
       "\n",
       "    .dataframe thead tr th {\n",
       "        text-align: left;\n",
       "    }\n",
       "\n",
       "    .dataframe thead tr:last-of-type th {\n",
       "        text-align: right;\n",
       "    }\n",
       "</style>\n",
       "<table border=\"1\" class=\"dataframe\">\n",
       "  <thead>\n",
       "    <tr>\n",
       "      <th></th>\n",
       "      <th colspan=\"8\" halign=\"left\">sepal length</th>\n",
       "      <th colspan=\"2\" halign=\"left\">sepal width</th>\n",
       "      <th>...</th>\n",
       "      <th colspan=\"2\" halign=\"left\">petal ratio</th>\n",
       "      <th colspan=\"8\" halign=\"left\">sepal ratio</th>\n",
       "    </tr>\n",
       "    <tr>\n",
       "      <th></th>\n",
       "      <th>count</th>\n",
       "      <th>mean</th>\n",
       "      <th>std</th>\n",
       "      <th>min</th>\n",
       "      <th>25%</th>\n",
       "      <th>50%</th>\n",
       "      <th>75%</th>\n",
       "      <th>max</th>\n",
       "      <th>count</th>\n",
       "      <th>mean</th>\n",
       "      <th>...</th>\n",
       "      <th>75%</th>\n",
       "      <th>max</th>\n",
       "      <th>count</th>\n",
       "      <th>mean</th>\n",
       "      <th>std</th>\n",
       "      <th>min</th>\n",
       "      <th>25%</th>\n",
       "      <th>50%</th>\n",
       "      <th>75%</th>\n",
       "      <th>max</th>\n",
       "    </tr>\n",
       "    <tr>\n",
       "      <th>class</th>\n",
       "      <th></th>\n",
       "      <th></th>\n",
       "      <th></th>\n",
       "      <th></th>\n",
       "      <th></th>\n",
       "      <th></th>\n",
       "      <th></th>\n",
       "      <th></th>\n",
       "      <th></th>\n",
       "      <th></th>\n",
       "      <th></th>\n",
       "      <th></th>\n",
       "      <th></th>\n",
       "      <th></th>\n",
       "      <th></th>\n",
       "      <th></th>\n",
       "      <th></th>\n",
       "      <th></th>\n",
       "      <th></th>\n",
       "      <th></th>\n",
       "      <th></th>\n",
       "    </tr>\n",
       "  </thead>\n",
       "  <tbody>\n",
       "    <tr>\n",
       "      <th>Iris-setosa</th>\n",
       "      <td>50.0</td>\n",
       "      <td>5.006</td>\n",
       "      <td>0.352490</td>\n",
       "      <td>4.3</td>\n",
       "      <td>4.800</td>\n",
       "      <td>5.0</td>\n",
       "      <td>5.2</td>\n",
       "      <td>5.8</td>\n",
       "      <td>50.0</td>\n",
       "      <td>3.428</td>\n",
       "      <td>...</td>\n",
       "      <td>0.213346</td>\n",
       "      <td>0.375000</td>\n",
       "      <td>50.0</td>\n",
       "      <td>0.684248</td>\n",
       "      <td>0.051871</td>\n",
       "      <td>0.511111</td>\n",
       "      <td>0.648756</td>\n",
       "      <td>0.683502</td>\n",
       "      <td>0.721667</td>\n",
       "      <td>0.788462</td>\n",
       "    </tr>\n",
       "    <tr>\n",
       "      <th>Iris-versicolor</th>\n",
       "      <td>50.0</td>\n",
       "      <td>5.936</td>\n",
       "      <td>0.516171</td>\n",
       "      <td>4.9</td>\n",
       "      <td>5.600</td>\n",
       "      <td>5.9</td>\n",
       "      <td>6.3</td>\n",
       "      <td>7.0</td>\n",
       "      <td>50.0</td>\n",
       "      <td>2.770</td>\n",
       "      <td>...</td>\n",
       "      <td>0.331522</td>\n",
       "      <td>0.375000</td>\n",
       "      <td>50.0</td>\n",
       "      <td>0.467680</td>\n",
       "      <td>0.046829</td>\n",
       "      <td>0.354839</td>\n",
       "      <td>0.447890</td>\n",
       "      <td>0.462687</td>\n",
       "      <td>0.491659</td>\n",
       "      <td>0.566667</td>\n",
       "    </tr>\n",
       "    <tr>\n",
       "      <th>Iris-virginica</th>\n",
       "      <td>50.0</td>\n",
       "      <td>6.588</td>\n",
       "      <td>0.635880</td>\n",
       "      <td>4.9</td>\n",
       "      <td>6.225</td>\n",
       "      <td>6.5</td>\n",
       "      <td>6.9</td>\n",
       "      <td>7.9</td>\n",
       "      <td>50.0</td>\n",
       "      <td>2.974</td>\n",
       "      <td>...</td>\n",
       "      <td>0.398214</td>\n",
       "      <td>0.470588</td>\n",
       "      <td>50.0</td>\n",
       "      <td>0.453396</td>\n",
       "      <td>0.047015</td>\n",
       "      <td>0.337662</td>\n",
       "      <td>0.426815</td>\n",
       "      <td>0.460928</td>\n",
       "      <td>0.492182</td>\n",
       "      <td>0.548387</td>\n",
       "    </tr>\n",
       "  </tbody>\n",
       "</table>\n",
       "<p>3 rows × 48 columns</p>\n",
       "</div>"
      ],
      "text/plain": [
       "                sepal length                                              \\\n",
       "                       count   mean       std  min    25%  50%  75%  max   \n",
       "class                                                                      \n",
       "Iris-setosa             50.0  5.006  0.352490  4.3  4.800  5.0  5.2  5.8   \n",
       "Iris-versicolor         50.0  5.936  0.516171  4.9  5.600  5.9  6.3  7.0   \n",
       "Iris-virginica          50.0  6.588  0.635880  4.9  6.225  6.5  6.9  7.9   \n",
       "\n",
       "                sepal width         ... petal ratio           sepal ratio  \\\n",
       "                      count   mean  ...         75%       max       count   \n",
       "class                               ...                                     \n",
       "Iris-setosa            50.0  3.428  ...    0.213346  0.375000        50.0   \n",
       "Iris-versicolor        50.0  2.770  ...    0.331522  0.375000        50.0   \n",
       "Iris-virginica         50.0  2.974  ...    0.398214  0.470588        50.0   \n",
       "\n",
       "                                                                             \\\n",
       "                     mean       std       min       25%       50%       75%   \n",
       "class                                                                         \n",
       "Iris-setosa      0.684248  0.051871  0.511111  0.648756  0.683502  0.721667   \n",
       "Iris-versicolor  0.467680  0.046829  0.354839  0.447890  0.462687  0.491659   \n",
       "Iris-virginica   0.453396  0.047015  0.337662  0.426815  0.460928  0.492182   \n",
       "\n",
       "                           \n",
       "                      max  \n",
       "class                      \n",
       "Iris-setosa      0.788462  \n",
       "Iris-versicolor  0.566667  \n",
       "Iris-virginica   0.548387  \n",
       "\n",
       "[3 rows x 48 columns]"
      ]
     },
     "execution_count": 16,
     "metadata": {},
     "output_type": "execute_result"
    },
    {
     "data": {
      "image/png": "[encoded data removed]",
      "text/plain": [
       "<Figure size 720x720 with 1 Axes>"
      ]
     },
     "metadata": {
      "needs_background": "light"
     },
     "output_type": "display_data"
    }
   ],
   "source": [
    "ig = iris.groupby('class')\n",
    "fig, ax = plt.subplots(figsize=(10,10))\n",
    "for g in ig.groups.keys():\n",
    "    ax.hist(ig.get_group(g)['sepal ratio'], bins='auto', density=True, alpha=.6, label=g)\n",
    "_ = fig.legend()\n",
    "ig.describe()"
   ]
  },
  {
   "cell_type": "code",
   "execution_count": null,
   "id": "582f82c6",
   "metadata": {
    "lines_to_next_cell": 2
   },
   "outputs": [],
   "source": []
  },
  {
   "cell_type": "markdown",
   "id": "d3e7b426",
   "metadata": {},
   "source": [
    "### Exercise 8 (max 5 points)\n",
    "\n",
    "Consider this statistical model: the sepal ratio of Iris-setosa and Iris-virginica is normally distributed, with an unknown mean, and a standard deviation of 1. Your *a priori* estimation of the mean for both distribution is a normal distribution with mean 0.5 and standard deviation 0.1. Use PyMC to sample the posterior distributions after having seen the actual values for Iris-setosa and Iris-virginica.  Plot the results."
   ]
  },
  {
   "cell_type": "code",
   "execution_count": 17,
   "id": "23e2bc6d",
   "metadata": {},
   "outputs": [
    {
     "name": "stderr",
     "output_type": "stream",
     "text": [
      "<ipython-input-17-a808679645ae>:11: FutureWarning: In v4.0, pm.sample will return an `arviz.InferenceData` object instead of a `MultiTrace` by default. You can pass return_inferencedata=True or return_inferencedata=False to be safe and silence this warning.\n",
      "  post = pm.sample()\n",
      "Auto-assigning NUTS sampler...\n",
      "Initializing NUTS using jitter+adapt_diag...\n",
      "Multiprocess sampling (4 chains in 4 jobs)\n",
      "NUTS: [mu_v, mu_s]\n"
     ]
    },
    {
     "data": {
      "text/html": [
       "\n",
       "    <div>\n",
       "        <style>\n",
       "            /* Turns off some styling */\n",
       "            progress {\n",
       "                /* gets rid of default border in Firefox and Opera. */\n",
       "                border: none;\n",
       "                /* Needs to be in here for Safari polyfill so background images work as expected. */\n",
       "                background-size: auto;\n",
       "            }\n",
       "            .progress-bar-interrupted, .progress-bar-interrupted::-webkit-progress-bar {\n",
       "                background: #F44336;\n",
       "            }\n",
       "        </style>\n",
       "      <progress value='8000' class='' max='8000' style='width:300px; height:20px; vertical-align: middle;'></progress>\n",
       "      100.00% [8000/8000 00:03<00:00 Sampling 4 chains, 0 divergences]\n",
       "    </div>\n",
       "    "
      ],
      "text/plain": [
       "<IPython.core.display.HTML object>"
      ]
     },
     "metadata": {},
     "output_type": "display_data"
    },
    {
     "name": "stderr",
     "output_type": "stream",
     "text": [
      "Sampling 4 chains for 1_000 tune and 1_000 draw iterations (4_000 + 4_000 draws total) took 13 seconds.\n"
     ]
    }
   ],
   "source": [
    "mymodel = pm.Model()\n",
    "\n",
    "\n",
    "with mymodel:\n",
    "    mu_s = pm.Normal('mu_s', 0.5, 0.1)\n",
    "    mu_v = pm.Normal('mu_v', 0.5, 0.1)\n",
    "    \n",
    "    sr_s = pm.Normal('sr_s', mu=mu_s, sigma=1, observed=iris.query('`class` == \"Iris-setosa\"')['sepal ratio'])\n",
    "    sr_v = pm.Normal('sr_v', mu=mu_v, sigma=1, observed=iris.query('`class` == \"Iris-virginica\"')['sepal ratio'])\n",
    "    \n",
    "    post = pm.sample()\n",
    "    "
   ]
  },
  {
   "cell_type": "code",
   "execution_count": 18,
   "id": "be978140",
   "metadata": {},
   "outputs": [
    {
     "data": {
      "image/png": "[encoded data removed]",
      "text/plain": [
       "<Figure size 993.6x331.2 with 2 Axes>"
      ]
     },
     "metadata": {
      "needs_background": "light"
     },
     "output_type": "display_data"
    }
   ],
   "source": [
    "with mymodel:\n",
    "    pm.plot_posterior(post)"
   ]
  },
  {
   "cell_type": "code",
   "execution_count": 19,
   "id": "f0938772",
   "metadata": {},
   "outputs": [],
   "source": [
    "n=0"
   ]
  },
  {
   "cell_type": "code",
   "execution_count": 20,
   "id": "4c21d181",
   "metadata": {
    "lines_to_next_cell": 2
   },
   "outputs": [
    {
     "name": "stdout",
     "output_type": "stream",
     "text": [
      "0\n",
      "1\n",
      "2\n",
      "3\n",
      "4\n",
      "5\n",
      "6\n",
      "7\n",
      "8\n",
      "9\n"
     ]
    }
   ],
   "source": [
    "while(n<10):\n",
    "    print(n)\n",
    "    n=n+1"
   ]
  },
  {
   "cell_type": "code",
   "execution_count": 25,
   "id": "d1a656ca",
   "metadata": {},
   "outputs": [
    {
     "data": {
      "text/plain": [
       "0"
      ]
     },
     "execution_count": 25,
     "metadata": {},
     "output_type": "execute_result"
    }
   ],
   "source": [
    "n"
   ]
  },
  {
   "cell_type": "code",
   "execution_count": 15,
   "id": "628e8bd1",
   "metadata": {},
   "outputs": [],
   "source": [
    "def fun( y: np.ndarray , x: int, g: float = 1.3) -> np.ndarray:\n",
    "    y[0]=x\n",
    "    for i in range(1,len(y)-1):\n",
    "        y[i]=y[i-1]*g\n",
    "    return y\n",
    "    \n",
    "    "
   ]
  },
  {
   "cell_type": "code",
   "execution_count": 16,
   "id": "800822d5",
   "metadata": {},
   "outputs": [],
   "source": []
  },
  {
   "cell_type": "code",
   "execution_count": 18,
   "id": "168fa74d",
   "metadata": {},
   "outputs": [
    {
     "data": {
      "text/plain": [
       "[<matplotlib.lines.Line2D at 0x1326fb0a0>]"
      ]
     },
     "execution_count": 18,
     "metadata": {},
     "output_type": "execute_result"
    },
    {
     "data": {
      "image/png": "[encoded data removed]",
      "text/plain": [
       "<Figure size 432x288 with 1 Axes>"
      ]
     },
     "metadata": {
      "needs_background": "light"
     },
     "output_type": "display_data"
    }
   ],
   "source": []
  },
  {
   "cell_type": "code",
   "execution_count": null,
   "id": "ba939136",
   "metadata": {},
   "outputs": [],
   "source": []
  }
 ],
 "metadata": {
  "jupytext": {
   "text_representation": {
    "extension": ".py",
    "format_name": "light",
    "format_version": "1.5",
    "jupytext_version": "1.11.2"
   }
  },
  "kernelspec": {
   "display_name": "Python 3",
   "language": "python",
   "name": "python3"
  },
  "language_info": {
   "codemirror_mode": {
    "name": "ipython",
    "version": 3
   },
   "file_extension": ".py",
   "mimetype": "text/x-python",
   "name": "python",
   "nbconvert_exporter": "python",
   "pygments_lexer": "ipython3",
   "version": "3.9.2"
  }
 },
 "nbformat": 4,
 "nbformat_minor": 5
}
