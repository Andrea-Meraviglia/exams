{
 "cells": [
  {
   "cell_type": "markdown",
   "id": "24af319d",
   "metadata": {},
   "source": [
    "# Programming in Python\n",
    "## Exam: September 8, 2021\n",
    "\n",
    "\n",
    "You can solve the exercises below by using standard Python 3.9 libraries, NumPy, Matplotlib, Pandas, PyMC3.\n",
    "You can browse the documentation: [Python](https://docs.python.org/3.9/), [NumPy](https://numpy.org/doc/stable/user/index.html), [Matplotlib](https://matplotlib.org/3.3.1/contents.html), [Pandas](https://pandas.pydata.org/pandas-docs/version/1.2.5/), [PyMC3](https://docs.pymc.io/).\n",
    "You can also look at the [slides of the course](https://homes.di.unimi.it/monga/lucidi2021/pyqb00.pdf) or your code on [GitHub](https://github.com).\n",
    "\n",
    "**It is forbidden to communicate with others.** \n"
   ]
  },
  {
   "cell_type": "code",
   "execution_count": 1,
   "id": "a4187cd8",
   "metadata": {},
   "outputs": [],
   "source": [
    "%matplotlib inline\n",
    "import numpy as np   # type: ignore\n",
    "import pandas as pd  # type: ignore\n",
    "import matplotlib.pyplot as plt # type: ignore\n",
    "import pymc3 as pm   # type: ignore"
   ]
  },
  {
   "cell_type": "markdown",
   "id": "c2c2c40b",
   "metadata": {},
   "source": [
    "Your research team is studing a new protein, the *exambirulobin*, and they model its trend over time with the following differential equation.\n",
    "\n",
    "$  \\frac{dy}{dt} = a + b\\cdot y + c\\cdot y^2 $\n",
    "\n",
    "Assume $a = 0.1$, $b = 0.02$, $c = 0.03$.\n",
    "\n"
   ]
  },
  {
   "cell_type": "markdown",
   "id": "2a22a8ee",
   "metadata": {},
   "source": [
    "### Exercise 1 (max 4 points)\n",
    "\n",
    "Define a function to compute $\\frac{dy}{dt}$ for any $y$. Make the function parametric in $a$, $b$, and $c$, but give them default values. \n",
    "\n",
    "\n",
    "To get the full marks, you should declare correctly the type hints (the signature of the function) and add a doctest string."
   ]
  },
  {
   "cell_type": "code",
   "execution_count": 2,
   "id": "06ee4c0f",
   "metadata": {},
   "outputs": [],
   "source": [
    "def deriv(y: float, a: float = 0.1, b: float = 0.02, c: float = 0.03) -> float:\n",
    "    \"\"\"Returns the exambirubolin change over time as a function of exambirubolin value.\n",
    "    \n",
    "    \n",
    "    >>> deriv(0)\n",
    "    0.1\n",
    "    \"\"\"\n",
    "    return a + b*y + b*y**2"
   ]
  },
  {
   "cell_type": "code",
   "execution_count": null,
   "id": "382c7741",
   "metadata": {},
   "outputs": [],
   "source": []
  },
  {
   "cell_type": "markdown",
   "id": "58a0ab8a",
   "metadata": {},
   "source": [
    "### Exercise 2 (max 7 points)\n",
    "\n",
    "\n",
    "Define a function to approximate the solution of the differential equation by leveraging on the [Euler method](https://en.wikipedia.org/wiki/Euler_method), considering that $\\lim_{\\Delta t \\to 0} f(t + \\Delta t) = f(t) + dt\\cdot\\frac{df}{dt}$. The function should take also the initial value for $t = 0$.\n",
    "\n",
    "To get the full marks, you should declare correctly the type hints (the signature of the function) and add a doctest string."
   ]
  },
  {
   "cell_type": "code",
   "execution_count": 5,
   "id": "c6cbe487",
   "metadata": {},
   "outputs": [],
   "source": [
    "from typing import Callable\n",
    "    \n",
    "def approx_euler(t: np.ndarray, f0: float, dfun: Callable[[float], float]) -> np.ndarray:\n",
    "    \"\"\"Compute the Euler approximation of a function on times t, with derivative dfun.\n",
    "    \n",
    "    >>> approx_euler(np.array([0.0]), 42., deriv)\n",
    "    array([42.])\n",
    "    \"\"\"\n",
    "    res = np.zeros(len(t))\n",
    "    res[0] = f0\n",
    "\n",
    "    for i in range(1, len(t)):\n",
    "        res[i] = res[i-1] + (t[i]-t[i-1])*dfun(res[i-1])\n",
    "\n",
    "    return res"
   ]
  },
  {
   "cell_type": "markdown",
   "id": "39be92b8",
   "metadata": {},
   "source": [
    "### Exercise 3 (max 3 points)\n",
    "\n",
    "Plot the approximate solution, with a $\\Delta t = .01$ on $0 \\leq t < 15$. The value at $t = 0$ is $0.1$."
   ]
  },
  {
   "cell_type": "code",
   "execution_count": 7,
   "id": "fb75f7d4",
   "metadata": {},
   "outputs": [
    {
     "ename": "SyntaxError",
     "evalue": "unexpected EOF while parsing (<ipython-input-7-11ab4d1ffded>, line 3)",
     "output_type": "error",
     "traceback": [
      "\u001b[0;36m  File \u001b[0;32m\"<ipython-input-7-11ab4d1ffded>\"\u001b[0;36m, line \u001b[0;32m3\u001b[0m\n\u001b[0;31m    ax.plot(t, approx_euler(t, 0.1,  deriv, label='Derivative approximation')\u001b[0m\n\u001b[0m                                                                             ^\u001b[0m\n\u001b[0;31mSyntaxError\u001b[0m\u001b[0;31m:\u001b[0m unexpected EOF while parsing\n"
     ]
    }
   ],
   "source": [
    "t = np.arange(0, 15, .01)\n",
    "fig, ax = plt.subplots()\n",
    "ax.plot(t, approx_euler(t, 0.1,  deriv, label='Derivative approximation')"
   ]
  },
  {
   "cell_type": "code",
   "execution_count": null,
   "id": "99064920",
   "metadata": {},
   "outputs": [],
   "source": []
  },
  {
   "cell_type": "markdown",
   "id": "e1938fc6",
   "metadata": {},
   "source": [
    "### Exercise 4 (max 5 points)\n",
    "\n",
    "Experiments on *exambirulobin* samples resulted in the values stored in a file `values.csv` (first column). The corresponding measurements of the Calcium in the cell were recorded in the second column of `values.csv`. Read the values in the first column in a numpy ndarray."
   ]
  },
  {
   "cell_type": "code",
   "execution_count": 8,
   "id": "eec4b377",
   "metadata": {},
   "outputs": [
    {
     "data": {
      "text/plain": [
       "array([ 0.1       ,  0.1019317 ,  0.10386409, ..., 17.54192928,\n",
       "       17.66259715, 17.7848706 ])"
      ]
     },
     "execution_count": 8,
     "metadata": {},
     "output_type": "execute_result"
    }
   ],
   "source": [
    "\n",
    "values = []\n",
    "with open('values.csv') as data_file:\n",
    "    for line in data_file:\n",
    "        values.append(float(line.split(',')[0]))\n",
    "        \n",
    "        \n",
    "exambirulobin = np.array(values)\n",
    "\n",
    "exambirulobin"
   ]
  },
  {
   "cell_type": "markdown",
   "id": "6a6a677b",
   "metadata": {},
   "source": [
    "### Exercise 5 (max 2 points)\n",
    "\n",
    "Define a Pandas DataFrame with the data in `values.csv` in two columns \"exambirulobin\" and \"calcium\"."
   ]
  },
  {
   "cell_type": "code",
   "execution_count": 18,
   "id": "2aeee1b6",
   "metadata": {},
   "outputs": [
    {
     "data": {
      "text/html": [
       "<div>\n",
       "<style scoped>\n",
       "    .dataframe tbody tr th:only-of-type {\n",
       "        vertical-align: middle;\n",
       "    }\n",
       "\n",
       "    .dataframe tbody tr th {\n",
       "        vertical-align: top;\n",
       "    }\n",
       "\n",
       "    .dataframe thead th {\n",
       "        text-align: right;\n",
       "    }\n",
       "</style>\n",
       "<table border=\"1\" class=\"dataframe\">\n",
       "  <thead>\n",
       "    <tr style=\"text-align: right;\">\n",
       "      <th></th>\n",
       "      <th>exambirulobin</th>\n",
       "      <th>calcium</th>\n",
       "    </tr>\n",
       "  </thead>\n",
       "  <tbody>\n",
       "    <tr>\n",
       "      <th>0</th>\n",
       "      <td>0.100000</td>\n",
       "      <td>5.807443</td>\n",
       "    </tr>\n",
       "    <tr>\n",
       "      <th>1</th>\n",
       "      <td>0.101932</td>\n",
       "      <td>5.358391</td>\n",
       "    </tr>\n",
       "    <tr>\n",
       "      <th>2</th>\n",
       "      <td>0.103864</td>\n",
       "      <td>5.533004</td>\n",
       "    </tr>\n",
       "    <tr>\n",
       "      <th>3</th>\n",
       "      <td>0.105797</td>\n",
       "      <td>5.909795</td>\n",
       "    </tr>\n",
       "    <tr>\n",
       "      <th>4</th>\n",
       "      <td>0.107731</td>\n",
       "      <td>5.918773</td>\n",
       "    </tr>\n",
       "  </tbody>\n",
       "</table>\n",
       "</div>"
      ],
      "text/plain": [
       "   exambirulobin   calcium\n",
       "0       0.100000  5.807443\n",
       "1       0.101932  5.358391\n",
       "2       0.103864  5.533004\n",
       "3       0.105797  5.909795\n",
       "4       0.107731  5.918773"
      ]
     },
     "execution_count": 18,
     "metadata": {},
     "output_type": "execute_result"
    }
   ],
   "source": [
    "data =  pd.read_csv('values.csv', sep=',', names=['exambirulobin', 'calcium'])\n",
    "data.head()"
   ]
  },
  {
   "cell_type": "markdown",
   "id": "648d06f0",
   "metadata": {},
   "source": [
    "### Exercise 6 (max 3 points)\n",
    "\n",
    "\n",
    "Add to the dataframe two columns with the difference of the two measures in `values.csv` and the ratio of the difference and the *exambirulobin* value."
   ]
  },
  {
   "cell_type": "code",
   "execution_count": 10,
   "id": "d53c321c",
   "metadata": {},
   "outputs": [
    {
     "data": {
      "text/html": [
       "<div>\n",
       "<style scoped>\n",
       "    .dataframe tbody tr th:only-of-type {\n",
       "        vertical-align: middle;\n",
       "    }\n",
       "\n",
       "    .dataframe tbody tr th {\n",
       "        vertical-align: top;\n",
       "    }\n",
       "\n",
       "    .dataframe thead th {\n",
       "        text-align: right;\n",
       "    }\n",
       "</style>\n",
       "<table border=\"1\" class=\"dataframe\">\n",
       "  <thead>\n",
       "    <tr style=\"text-align: right;\">\n",
       "      <th></th>\n",
       "      <th>exambirulobin</th>\n",
       "      <th>calcium</th>\n",
       "      <th>diff</th>\n",
       "      <th>ratio</th>\n",
       "    </tr>\n",
       "  </thead>\n",
       "  <tbody>\n",
       "    <tr>\n",
       "      <th>0</th>\n",
       "      <td>0.100000</td>\n",
       "      <td>5.807443</td>\n",
       "      <td>5.707443</td>\n",
       "      <td>57.074431</td>\n",
       "    </tr>\n",
       "    <tr>\n",
       "      <th>1</th>\n",
       "      <td>0.101932</td>\n",
       "      <td>5.358391</td>\n",
       "      <td>5.256459</td>\n",
       "      <td>51.568441</td>\n",
       "    </tr>\n",
       "    <tr>\n",
       "      <th>2</th>\n",
       "      <td>0.103864</td>\n",
       "      <td>5.533004</td>\n",
       "      <td>5.429140</td>\n",
       "      <td>52.271577</td>\n",
       "    </tr>\n",
       "    <tr>\n",
       "      <th>3</th>\n",
       "      <td>0.105797</td>\n",
       "      <td>5.909795</td>\n",
       "      <td>5.803998</td>\n",
       "      <td>54.859675</td>\n",
       "    </tr>\n",
       "    <tr>\n",
       "      <th>4</th>\n",
       "      <td>0.107731</td>\n",
       "      <td>5.918773</td>\n",
       "      <td>5.811042</td>\n",
       "      <td>53.940338</td>\n",
       "    </tr>\n",
       "  </tbody>\n",
       "</table>\n",
       "</div>"
      ],
      "text/plain": [
       "   exambirulobin   calcium      diff      ratio\n",
       "0       0.100000  5.807443  5.707443  57.074431\n",
       "1       0.101932  5.358391  5.256459  51.568441\n",
       "2       0.103864  5.533004  5.429140  52.271577\n",
       "3       0.105797  5.909795  5.803998  54.859675\n",
       "4       0.107731  5.918773  5.811042  53.940338"
      ]
     },
     "execution_count": 10,
     "metadata": {},
     "output_type": "execute_result"
    }
   ],
   "source": [
    "data['diff'] = data['calcium'] - data['exambirulobin']\n",
    "data['ratio'] = data['diff'] / data['exambirulobin']\n",
    "data.head()"
   ]
  },
  {
   "cell_type": "markdown",
   "id": "c7836339",
   "metadata": {},
   "source": [
    "### Exercise 7 (max 3 points)\n",
    "\n",
    "Make two adjacent plots: one with values of *exambirulobin* taken from `values.csv` and another with the histogram of the ratio computed in Exercise 6."
   ]
  },
  {
   "cell_type": "code",
   "execution_count": 11,
   "id": "e5203389",
   "metadata": {},
   "outputs": [
    {
     "data": {
      "image/png": "[encoded data removed]",
      "text/plain": [
       "<Figure size 720x720 with 2 Axes>"
      ]
     },
     "metadata": {
      "needs_background": "light"
     },
     "output_type": "display_data"
    }
   ],
   "source": [
    "t = np.linspace(0, 15, data['exambirulobin'].count())\n",
    "fig, ax = plt.subplots(1,2, figsize=(10,10))\n",
    "ax[0].plot(t, data['exambirulobin'], label='Exambirulobin')\n",
    "ax[1].hist(data['ratio'], bins='auto', density=True, label='ratio')\n",
    "\n",
    "_ = fig.legend()"
   ]
  },
  {
   "cell_type": "markdown",
   "id": "9d5ad2ab",
   "metadata": {},
   "source": [
    "### Exercise 8 (max 5 points)\n",
    "\n",
    "Consider this statistical model: the ratio computed in Exercise 6 is normally distributed, with an unknown mean, and a standard deviation of 1. Your *a priori* estimation of the mean is a normal distribution with mean 0 and standard deviation 1. Use PyMC to sample the posterior distributions after having seen the actual values of the ratio.  Plot the results."
   ]
  },
  {
   "cell_type": "code",
   "execution_count": 12,
   "id": "111babad",
   "metadata": {},
   "outputs": [
    {
     "name": "stderr",
     "output_type": "stream",
     "text": [
      "<ipython-input-12-b7da0eead0c2>:8: FutureWarning: In v4.0, pm.sample will return an `arviz.InferenceData` object instead of a `MultiTrace` by default. You can pass return_inferencedata=True or return_inferencedata=False to be safe and silence this warning.\n",
      "  post = pm.sample()\n",
      "Auto-assigning NUTS sampler...\n",
      "Initializing NUTS using jitter+adapt_diag...\n",
      "Multiprocess sampling (4 chains in 4 jobs)\n",
      "NUTS: [mu]\n"
     ]
    },
    {
     "data": {
      "text/html": [
       "\n",
       "    <div>\n",
       "        <style>\n",
       "            /* Turns off some styling */\n",
       "            progress {\n",
       "                /* gets rid of default border in Firefox and Opera. */\n",
       "                border: none;\n",
       "                /* Needs to be in here for Safari polyfill so background images work as expected. */\n",
       "                background-size: auto;\n",
       "            }\n",
       "            .progress-bar-interrupted, .progress-bar-interrupted::-webkit-progress-bar {\n",
       "                background: #F44336;\n",
       "            }\n",
       "        </style>\n",
       "      <progress value='8000' class='' max='8000' style='width:300px; height:20px; vertical-align: middle;'></progress>\n",
       "      100.00% [8000/8000 00:02<00:00 Sampling 4 chains, 0 divergences]\n",
       "    </div>\n",
       "    "
      ],
      "text/plain": [
       "<IPython.core.display.HTML object>"
      ]
     },
     "metadata": {},
     "output_type": "display_data"
    },
    {
     "name": "stderr",
     "output_type": "stream",
     "text": [
      "Sampling 4 chains for 1_000 tune and 1_000 draw iterations (4_000 + 4_000 draws total) took 11 seconds.\n"
     ]
    }
   ],
   "source": [
    "mymodel = pm.Model()\n",
    "\n",
    "with mymodel:\n",
    "    mu = pm.Normal('mu', 0, 1)\n",
    "    \n",
    "    ratio = pm.Normal('ratio', mu, 1, observed=data['ratio'])\n",
    "    \n",
    "    post = pm.sample()\n"
   ]
  },
  {
   "cell_type": "code",
   "execution_count": 13,
   "id": "c5959503",
   "metadata": {},
   "outputs": [
    {
     "data": {
      "image/png": "[encoded data removed]",
      "text/plain": [
       "<Figure size 432x288 with 1 Axes>"
      ]
     },
     "metadata": {
      "needs_background": "light"
     },
     "output_type": "display_data"
    }
   ],
   "source": [
    "with mymodel:\n",
    "    pm.plot_posterior(post)"
   ]
  },
  {
   "cell_type": "code",
   "execution_count": null,
   "id": "cb303a2f",
   "metadata": {},
   "outputs": [],
   "source": []
  }
 ],
 "metadata": {
  "jupytext": {
   "text_representation": {
    "extension": ".py",
    "format_name": "light",
    "format_version": "1.5",
    "jupytext_version": "1.11.2"
   }
  },
  "kernelspec": {
   "display_name": "Python 3",
   "language": "python",
   "name": "python3"
  },
  "language_info": {
   "codemirror_mode": {
    "name": "ipython",
    "version": 3
   },
   "file_extension": ".py",
   "mimetype": "text/x-python",
   "name": "python",
   "nbconvert_exporter": "python",
   "pygments_lexer": "ipython3",
   "version": "3.9.2"
  }
 },
 "nbformat": 4,
 "nbformat_minor": 5
}
